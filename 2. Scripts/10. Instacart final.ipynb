{
 "cells": [
  {
   "cell_type": "markdown",
   "id": "9ddb8994",
   "metadata": {},
   "source": [
    "# INSTACART FINAL ANALYSIS"
   ]
  },
  {
   "cell_type": "markdown",
   "id": "564354f2",
   "metadata": {},
   "source": [
    "### This script contains the following:\n",
    "#### 1. Importing data and libraries\n",
    "#### 2. Addressing PII Data\n",
    "#### 3. Regional segmentation\n",
    "#### 4. Excluding low activity customers\n",
    "#### 5. Customer profiling\n",
    "#### 6. Profile visualization\n",
    "#### 7. Aggregating for customer profile\n",
    "#### 8. Comparing customer profiles with regions and departments\n",
    "#### 9. Answers to key questions"
   ]
  },
  {
   "cell_type": "markdown",
   "id": "d8e91cec",
   "metadata": {},
   "source": [
    "# -------------------------------------------------------------------------------------------------------------"
   ]
  },
  {
   "cell_type": "markdown",
   "id": "cd488720",
   "metadata": {},
   "source": [
    "## 1. Importing libraries¶"
   ]
  },
  {
   "cell_type": "code",
   "execution_count": 1,
   "id": "cb5ed535",
   "metadata": {},
   "outputs": [],
   "source": [
    "# Import libraries\n",
    "\n",
    "import pandas as pd\n",
    "import numpy as np\n",
    "import os\n",
    "import matplotlib.pyplot as plt\n",
    "import seaborn as sns\n",
    "import scipy"
   ]
  },
  {
   "cell_type": "markdown",
   "id": "3b194031",
   "metadata": {},
   "source": [
    "### 1.1. Importing data¶"
   ]
  },
  {
   "cell_type": "code",
   "execution_count": 2,
   "id": "670a933d",
   "metadata": {},
   "outputs": [],
   "source": [
    "# We create a path to add a shortcut to our files location\n",
    "\n",
    "path = r'C:\\Users\\javis\\OneDrive\\Documentos\\Career Foundry\\2. Data Immersion\\4. Python\\Instacart Basket Analysis'"
   ]
  },
  {
   "cell_type": "code",
   "execution_count": 3,
   "id": "59449b4b",
   "metadata": {},
   "outputs": [],
   "source": [
    "# We then give Python the instruction of reading the file located in that path\n",
    "\n",
    "instacart = pd.read_pickle(os.path.join(path, '2. Data', '2.2. Prepared Data', 'Instacart_complete.pkl'))"
   ]
  },
  {
   "cell_type": "markdown",
   "id": "3ef34c4d",
   "metadata": {},
   "source": [
    "## 2. Addressing PII Data"
   ]
  },
  {
   "cell_type": "code",
   "execution_count": 4,
   "id": "531234c4",
   "metadata": {},
   "outputs": [
    {
     "data": {
      "text/html": [
       "<div>\n",
       "<style scoped>\n",
       "    .dataframe tbody tr th:only-of-type {\n",
       "        vertical-align: middle;\n",
       "    }\n",
       "\n",
       "    .dataframe tbody tr th {\n",
       "        vertical-align: top;\n",
       "    }\n",
       "\n",
       "    .dataframe thead th {\n",
       "        text-align: right;\n",
       "    }\n",
       "</style>\n",
       "<table border=\"1\" class=\"dataframe\">\n",
       "  <thead>\n",
       "    <tr style=\"text-align: right;\">\n",
       "      <th></th>\n",
       "      <th>order_id</th>\n",
       "      <th>user_id</th>\n",
       "      <th>order_number</th>\n",
       "      <th>orders_day_of_week</th>\n",
       "      <th>order_hour_of_day</th>\n",
       "      <th>days_from_last_order</th>\n",
       "      <th>first_order</th>\n",
       "      <th>product_id</th>\n",
       "      <th>add_to_cart_order</th>\n",
       "      <th>reordered</th>\n",
       "      <th>_merge</th>\n",
       "      <th>product_name</th>\n",
       "      <th>aisle_id</th>\n",
       "      <th>department_id</th>\n",
       "      <th>prices</th>\n",
       "      <th>price_range</th>\n",
       "      <th>price_range_loc</th>\n",
       "      <th>busiest_day</th>\n",
       "      <th>Busiest_days</th>\n",
       "      <th>busiest_period_of_day</th>\n",
       "      <th>max_order</th>\n",
       "      <th>loyalty_flag</th>\n",
       "      <th>average_spending</th>\n",
       "      <th>spending_flag</th>\n",
       "      <th>frequency_orders</th>\n",
       "      <th>frequency_flag</th>\n",
       "      <th>surname</th>\n",
       "      <th>gender</th>\n",
       "      <th>state</th>\n",
       "      <th>age</th>\n",
       "      <th>date_joined</th>\n",
       "      <th>dependants</th>\n",
       "      <th>fam_status</th>\n",
       "      <th>income</th>\n",
       "    </tr>\n",
       "  </thead>\n",
       "  <tbody>\n",
       "    <tr>\n",
       "      <th>0</th>\n",
       "      <td>7447</td>\n",
       "      <td>76142</td>\n",
       "      <td>56</td>\n",
       "      <td>5</td>\n",
       "      <td>11</td>\n",
       "      <td>4.0</td>\n",
       "      <td>False</td>\n",
       "      <td>38526</td>\n",
       "      <td>1</td>\n",
       "      <td>1</td>\n",
       "      <td>both</td>\n",
       "      <td>Garlic Bread With Mozzarella</td>\n",
       "      <td>13</td>\n",
       "      <td>20</td>\n",
       "      <td>11.0</td>\n",
       "      <td>Mid-range product</td>\n",
       "      <td>Mid-range product</td>\n",
       "      <td>Regularly busy</td>\n",
       "      <td>Normal_days</td>\n",
       "      <td>Most busy hours</td>\n",
       "      <td>56</td>\n",
       "      <td>Loyal customer</td>\n",
       "      <td>NaN</td>\n",
       "      <td>NaN</td>\n",
       "      <td>NaN</td>\n",
       "      <td>NaN</td>\n",
       "      <td>Yang</td>\n",
       "      <td>Female</td>\n",
       "      <td>Wisconsin</td>\n",
       "      <td>75</td>\n",
       "      <td>10/23/2017</td>\n",
       "      <td>2</td>\n",
       "      <td>married</td>\n",
       "      <td>80939</td>\n",
       "    </tr>\n",
       "    <tr>\n",
       "      <th>1</th>\n",
       "      <td>7447</td>\n",
       "      <td>76142</td>\n",
       "      <td>56</td>\n",
       "      <td>5</td>\n",
       "      <td>11</td>\n",
       "      <td>4.0</td>\n",
       "      <td>False</td>\n",
       "      <td>39747</td>\n",
       "      <td>2</td>\n",
       "      <td>0</td>\n",
       "      <td>both</td>\n",
       "      <td>Mixed Berry English Tea Scones</td>\n",
       "      <td>93</td>\n",
       "      <td>3</td>\n",
       "      <td>6.6</td>\n",
       "      <td>Mid-range product</td>\n",
       "      <td>Mid-range product</td>\n",
       "      <td>Regularly busy</td>\n",
       "      <td>Normal_days</td>\n",
       "      <td>Most busy hours</td>\n",
       "      <td>56</td>\n",
       "      <td>Loyal customer</td>\n",
       "      <td>NaN</td>\n",
       "      <td>NaN</td>\n",
       "      <td>NaN</td>\n",
       "      <td>NaN</td>\n",
       "      <td>Yang</td>\n",
       "      <td>Female</td>\n",
       "      <td>Wisconsin</td>\n",
       "      <td>75</td>\n",
       "      <td>10/23/2017</td>\n",
       "      <td>2</td>\n",
       "      <td>married</td>\n",
       "      <td>80939</td>\n",
       "    </tr>\n",
       "    <tr>\n",
       "      <th>2</th>\n",
       "      <td>7447</td>\n",
       "      <td>76142</td>\n",
       "      <td>56</td>\n",
       "      <td>5</td>\n",
       "      <td>11</td>\n",
       "      <td>4.0</td>\n",
       "      <td>False</td>\n",
       "      <td>27086</td>\n",
       "      <td>3</td>\n",
       "      <td>1</td>\n",
       "      <td>both</td>\n",
       "      <td>Half &amp; Half</td>\n",
       "      <td>53</td>\n",
       "      <td>16</td>\n",
       "      <td>11.4</td>\n",
       "      <td>Mid-range product</td>\n",
       "      <td>Mid-range product</td>\n",
       "      <td>Regularly busy</td>\n",
       "      <td>Normal_days</td>\n",
       "      <td>Most busy hours</td>\n",
       "      <td>56</td>\n",
       "      <td>Loyal customer</td>\n",
       "      <td>NaN</td>\n",
       "      <td>NaN</td>\n",
       "      <td>NaN</td>\n",
       "      <td>NaN</td>\n",
       "      <td>Yang</td>\n",
       "      <td>Female</td>\n",
       "      <td>Wisconsin</td>\n",
       "      <td>75</td>\n",
       "      <td>10/23/2017</td>\n",
       "      <td>2</td>\n",
       "      <td>married</td>\n",
       "      <td>80939</td>\n",
       "    </tr>\n",
       "    <tr>\n",
       "      <th>3</th>\n",
       "      <td>7447</td>\n",
       "      <td>76142</td>\n",
       "      <td>56</td>\n",
       "      <td>5</td>\n",
       "      <td>11</td>\n",
       "      <td>4.0</td>\n",
       "      <td>False</td>\n",
       "      <td>47310</td>\n",
       "      <td>4</td>\n",
       "      <td>0</td>\n",
       "      <td>both</td>\n",
       "      <td>Shells &amp; White Cheddar Mac &amp; Cheese Family Siz...</td>\n",
       "      <td>4</td>\n",
       "      <td>9</td>\n",
       "      <td>2.4</td>\n",
       "      <td>Low-range product</td>\n",
       "      <td>Low-range product</td>\n",
       "      <td>Regularly busy</td>\n",
       "      <td>Normal_days</td>\n",
       "      <td>Most busy hours</td>\n",
       "      <td>56</td>\n",
       "      <td>Loyal customer</td>\n",
       "      <td>NaN</td>\n",
       "      <td>NaN</td>\n",
       "      <td>NaN</td>\n",
       "      <td>NaN</td>\n",
       "      <td>Yang</td>\n",
       "      <td>Female</td>\n",
       "      <td>Wisconsin</td>\n",
       "      <td>75</td>\n",
       "      <td>10/23/2017</td>\n",
       "      <td>2</td>\n",
       "      <td>married</td>\n",
       "      <td>80939</td>\n",
       "    </tr>\n",
       "    <tr>\n",
       "      <th>4</th>\n",
       "      <td>7447</td>\n",
       "      <td>76142</td>\n",
       "      <td>56</td>\n",
       "      <td>5</td>\n",
       "      <td>11</td>\n",
       "      <td>4.0</td>\n",
       "      <td>False</td>\n",
       "      <td>25577</td>\n",
       "      <td>5</td>\n",
       "      <td>0</td>\n",
       "      <td>both</td>\n",
       "      <td>Organic Bunny Pasta &amp; Chicken Broth Soup</td>\n",
       "      <td>69</td>\n",
       "      <td>15</td>\n",
       "      <td>9.1</td>\n",
       "      <td>Mid-range product</td>\n",
       "      <td>Mid-range product</td>\n",
       "      <td>Regularly busy</td>\n",
       "      <td>Normal_days</td>\n",
       "      <td>Most busy hours</td>\n",
       "      <td>56</td>\n",
       "      <td>Loyal customer</td>\n",
       "      <td>NaN</td>\n",
       "      <td>NaN</td>\n",
       "      <td>NaN</td>\n",
       "      <td>NaN</td>\n",
       "      <td>Yang</td>\n",
       "      <td>Female</td>\n",
       "      <td>Wisconsin</td>\n",
       "      <td>75</td>\n",
       "      <td>10/23/2017</td>\n",
       "      <td>2</td>\n",
       "      <td>married</td>\n",
       "      <td>80939</td>\n",
       "    </tr>\n",
       "  </tbody>\n",
       "</table>\n",
       "</div>"
      ],
      "text/plain": [
       "   order_id user_id  order_number  orders_day_of_week  order_hour_of_day  \\\n",
       "0      7447   76142            56                   5                 11   \n",
       "1      7447   76142            56                   5                 11   \n",
       "2      7447   76142            56                   5                 11   \n",
       "3      7447   76142            56                   5                 11   \n",
       "4      7447   76142            56                   5                 11   \n",
       "\n",
       "   days_from_last_order  first_order  product_id  add_to_cart_order  \\\n",
       "0                   4.0        False       38526                  1   \n",
       "1                   4.0        False       39747                  2   \n",
       "2                   4.0        False       27086                  3   \n",
       "3                   4.0        False       47310                  4   \n",
       "4                   4.0        False       25577                  5   \n",
       "\n",
       "   reordered _merge                                       product_name  \\\n",
       "0          1   both                       Garlic Bread With Mozzarella   \n",
       "1          0   both                     Mixed Berry English Tea Scones   \n",
       "2          1   both                                        Half & Half   \n",
       "3          0   both  Shells & White Cheddar Mac & Cheese Family Siz...   \n",
       "4          0   both           Organic Bunny Pasta & Chicken Broth Soup   \n",
       "\n",
       "   aisle_id  department_id  prices        price_range    price_range_loc  \\\n",
       "0        13             20    11.0  Mid-range product  Mid-range product   \n",
       "1        93              3     6.6  Mid-range product  Mid-range product   \n",
       "2        53             16    11.4  Mid-range product  Mid-range product   \n",
       "3         4              9     2.4  Low-range product  Low-range product   \n",
       "4        69             15     9.1  Mid-range product  Mid-range product   \n",
       "\n",
       "      busiest_day Busiest_days busiest_period_of_day  max_order  \\\n",
       "0  Regularly busy  Normal_days       Most busy hours         56   \n",
       "1  Regularly busy  Normal_days       Most busy hours         56   \n",
       "2  Regularly busy  Normal_days       Most busy hours         56   \n",
       "3  Regularly busy  Normal_days       Most busy hours         56   \n",
       "4  Regularly busy  Normal_days       Most busy hours         56   \n",
       "\n",
       "     loyalty_flag  average_spending spending_flag  frequency_orders  \\\n",
       "0  Loyal customer               NaN           NaN               NaN   \n",
       "1  Loyal customer               NaN           NaN               NaN   \n",
       "2  Loyal customer               NaN           NaN               NaN   \n",
       "3  Loyal customer               NaN           NaN               NaN   \n",
       "4  Loyal customer               NaN           NaN               NaN   \n",
       "\n",
       "  frequency_flag surname  gender      state  age date_joined  dependants  \\\n",
       "0            NaN    Yang  Female  Wisconsin   75  10/23/2017           2   \n",
       "1            NaN    Yang  Female  Wisconsin   75  10/23/2017           2   \n",
       "2            NaN    Yang  Female  Wisconsin   75  10/23/2017           2   \n",
       "3            NaN    Yang  Female  Wisconsin   75  10/23/2017           2   \n",
       "4            NaN    Yang  Female  Wisconsin   75  10/23/2017           2   \n",
       "\n",
       "  fam_status  income  \n",
       "0    married   80939  \n",
       "1    married   80939  \n",
       "2    married   80939  \n",
       "3    married   80939  \n",
       "4    married   80939  "
      ]
     },
     "execution_count": 4,
     "metadata": {},
     "output_type": "execute_result"
    }
   ],
   "source": [
    "# Firstly we check the columns, to see what personal identifiable information we have.\n",
    "\n",
    "pd.set_option('display.max_columns', None)\n",
    "instacart.head()"
   ]
  },
  {
   "cell_type": "markdown",
   "id": "759d70bc",
   "metadata": {},
   "source": [
    "We have surnames, so we are going to delete this column. The rest is fine."
   ]
  },
  {
   "cell_type": "markdown",
   "id": "d2bc844b",
   "metadata": {},
   "source": [
    "### 2.1. Deleting personal information"
   ]
  },
  {
   "cell_type": "code",
   "execution_count": 5,
   "id": "60f66cb8",
   "metadata": {},
   "outputs": [],
   "source": [
    "instacart = instacart.drop (columns = ['surname'])"
   ]
  },
  {
   "cell_type": "markdown",
   "id": "c8bfc69d",
   "metadata": {},
   "source": [
    "## 3. Regional segmentation"
   ]
  },
  {
   "cell_type": "code",
   "execution_count": 6,
   "id": "8083ca20",
   "metadata": {},
   "outputs": [
    {
     "name": "stdout",
     "output_type": "stream",
     "text": [
      "['Wisconsin' 'Delaware' 'Florida' 'Illinois' 'Wyoming' 'Idaho' 'Tennessee'\n",
      " 'Rhode Island' 'Nebraska' 'District of Columbia' 'Alabama' 'Nevada'\n",
      " 'Pennsylvania' 'South Carolina' 'Colorado' 'New Mexico' 'North Carolina'\n",
      " 'Louisiana' 'Hawaii' 'Kentucky' 'California' 'Montana' 'New York' 'Texas'\n",
      " 'Vermont' 'West Virginia' 'Massachusetts' 'Arizona' 'New Hampshire'\n",
      " 'Arkansas' 'Georgia' 'Missouri' 'New Jersey' 'Kansas' 'Iowa'\n",
      " 'Connecticut' 'Alaska' 'Maryland' 'Oklahoma' 'Virginia' 'South Dakota'\n",
      " 'Ohio' 'Maine' 'Oregon']\n"
     ]
    }
   ],
   "source": [
    "# Firstly let's check how many states we have\n",
    "\n",
    "states = instacart['state'].unique()\n",
    "print (states) "
   ]
  },
  {
   "cell_type": "code",
   "execution_count": 7,
   "id": "e9afd035",
   "metadata": {},
   "outputs": [],
   "source": [
    "# Now let's create a list of the regions\n",
    "\n",
    "Northeast = ['Maine','New Hampshire','Vermont','Massachusetts','Rhode Island','Connecticut','New York','New Jersey','Pennsylvania']\n",
    "Midwest = ['Wisconsin','Michigan','Illinois','Indiana','Ohio','North Dakota','South Dakota','Nebraska','Kansas','Minnesota','Iowa','Missouri']\n",
    "South = ['Delaware','Maryland','District of Columbia','Virginia','West Virginia','North Carolina','South Carolina','Georgia','Florida','Kentucky','Tennessee','Mississippi','Alabama','Oklahoma','Texas','Arkansas','Louisiana']\n",
    "West = ['Idaho','Montana','Wyoming','Nevada','Utah','Colorado','Arizona','New Mexico','Alaska','Washington','Oregon','California','Hawaii']"
   ]
  },
  {
   "cell_type": "markdown",
   "id": "5c4e928a",
   "metadata": {},
   "source": [
    "### 3.1. Differences in spending habits"
   ]
  },
  {
   "cell_type": "code",
   "execution_count": 8,
   "id": "b8375e01",
   "metadata": {},
   "outputs": [],
   "source": [
    "# We want to analyse customer spending by average cost per order\n",
    "\n",
    "instacart['avg_order_cost_by_cust'] = instacart.groupby(['user_id'])['prices'].transform('mean')"
   ]
  },
  {
   "cell_type": "code",
   "execution_count": 11,
   "id": "4188a59c",
   "metadata": {},
   "outputs": [],
   "source": [
    "# Since our spending flags column shows as Nan, let's define the flags again\n",
    "\n",
    "instacart.loc[instacart['avg_order_cost_by_cust'] < 10, 'spender_flag'] = 'Low spender'"
   ]
  },
  {
   "cell_type": "code",
   "execution_count": 12,
   "id": "3845f548",
   "metadata": {},
   "outputs": [],
   "source": [
    "#Create spender flag criteria - high spender\n",
    "instacart.loc[instacart['avg_order_cost_by_cust'] >= 10, 'spender_flag'] = 'High spender'"
   ]
  },
  {
   "cell_type": "code",
   "execution_count": 13,
   "id": "378d457e",
   "metadata": {},
   "outputs": [
    {
     "data": {
      "text/html": [
       "<div>\n",
       "<style scoped>\n",
       "    .dataframe tbody tr th:only-of-type {\n",
       "        vertical-align: middle;\n",
       "    }\n",
       "\n",
       "    .dataframe tbody tr th {\n",
       "        vertical-align: top;\n",
       "    }\n",
       "\n",
       "    .dataframe thead th {\n",
       "        text-align: right;\n",
       "    }\n",
       "</style>\n",
       "<table border=\"1\" class=\"dataframe\">\n",
       "  <thead>\n",
       "    <tr style=\"text-align: right;\">\n",
       "      <th></th>\n",
       "      <th>order_id</th>\n",
       "      <th>user_id</th>\n",
       "      <th>order_number</th>\n",
       "      <th>orders_day_of_week</th>\n",
       "      <th>order_hour_of_day</th>\n",
       "      <th>days_from_last_order</th>\n",
       "      <th>first_order</th>\n",
       "      <th>product_id</th>\n",
       "      <th>add_to_cart_order</th>\n",
       "      <th>reordered</th>\n",
       "      <th>_merge</th>\n",
       "      <th>product_name</th>\n",
       "      <th>aisle_id</th>\n",
       "      <th>department_id</th>\n",
       "      <th>prices</th>\n",
       "      <th>price_range</th>\n",
       "      <th>price_range_loc</th>\n",
       "      <th>busiest_day</th>\n",
       "      <th>Busiest_days</th>\n",
       "      <th>busiest_period_of_day</th>\n",
       "      <th>max_order</th>\n",
       "      <th>loyalty_flag</th>\n",
       "      <th>average_spending</th>\n",
       "      <th>spending_flag</th>\n",
       "      <th>frequency_orders</th>\n",
       "      <th>frequency_flag</th>\n",
       "      <th>gender</th>\n",
       "      <th>state</th>\n",
       "      <th>age</th>\n",
       "      <th>date_joined</th>\n",
       "      <th>dependants</th>\n",
       "      <th>fam_status</th>\n",
       "      <th>income</th>\n",
       "      <th>avg_order_cost_by_cust</th>\n",
       "      <th>spender_flag</th>\n",
       "    </tr>\n",
       "  </thead>\n",
       "  <tbody>\n",
       "    <tr>\n",
       "      <th>0</th>\n",
       "      <td>7447</td>\n",
       "      <td>76142</td>\n",
       "      <td>56</td>\n",
       "      <td>5</td>\n",
       "      <td>11</td>\n",
       "      <td>4.0</td>\n",
       "      <td>False</td>\n",
       "      <td>38526</td>\n",
       "      <td>1</td>\n",
       "      <td>1</td>\n",
       "      <td>both</td>\n",
       "      <td>Garlic Bread With Mozzarella</td>\n",
       "      <td>13</td>\n",
       "      <td>20</td>\n",
       "      <td>11.0</td>\n",
       "      <td>Mid-range product</td>\n",
       "      <td>Mid-range product</td>\n",
       "      <td>Regularly busy</td>\n",
       "      <td>Normal_days</td>\n",
       "      <td>Most busy hours</td>\n",
       "      <td>56</td>\n",
       "      <td>Loyal customer</td>\n",
       "      <td>NaN</td>\n",
       "      <td>NaN</td>\n",
       "      <td>NaN</td>\n",
       "      <td>NaN</td>\n",
       "      <td>Female</td>\n",
       "      <td>Wisconsin</td>\n",
       "      <td>75</td>\n",
       "      <td>10/23/2017</td>\n",
       "      <td>2</td>\n",
       "      <td>married</td>\n",
       "      <td>80939</td>\n",
       "      <td>9.25</td>\n",
       "      <td>Low spender</td>\n",
       "    </tr>\n",
       "    <tr>\n",
       "      <th>1</th>\n",
       "      <td>7447</td>\n",
       "      <td>76142</td>\n",
       "      <td>56</td>\n",
       "      <td>5</td>\n",
       "      <td>11</td>\n",
       "      <td>4.0</td>\n",
       "      <td>False</td>\n",
       "      <td>39747</td>\n",
       "      <td>2</td>\n",
       "      <td>0</td>\n",
       "      <td>both</td>\n",
       "      <td>Mixed Berry English Tea Scones</td>\n",
       "      <td>93</td>\n",
       "      <td>3</td>\n",
       "      <td>6.6</td>\n",
       "      <td>Mid-range product</td>\n",
       "      <td>Mid-range product</td>\n",
       "      <td>Regularly busy</td>\n",
       "      <td>Normal_days</td>\n",
       "      <td>Most busy hours</td>\n",
       "      <td>56</td>\n",
       "      <td>Loyal customer</td>\n",
       "      <td>NaN</td>\n",
       "      <td>NaN</td>\n",
       "      <td>NaN</td>\n",
       "      <td>NaN</td>\n",
       "      <td>Female</td>\n",
       "      <td>Wisconsin</td>\n",
       "      <td>75</td>\n",
       "      <td>10/23/2017</td>\n",
       "      <td>2</td>\n",
       "      <td>married</td>\n",
       "      <td>80939</td>\n",
       "      <td>9.25</td>\n",
       "      <td>Low spender</td>\n",
       "    </tr>\n",
       "    <tr>\n",
       "      <th>2</th>\n",
       "      <td>7447</td>\n",
       "      <td>76142</td>\n",
       "      <td>56</td>\n",
       "      <td>5</td>\n",
       "      <td>11</td>\n",
       "      <td>4.0</td>\n",
       "      <td>False</td>\n",
       "      <td>27086</td>\n",
       "      <td>3</td>\n",
       "      <td>1</td>\n",
       "      <td>both</td>\n",
       "      <td>Half &amp; Half</td>\n",
       "      <td>53</td>\n",
       "      <td>16</td>\n",
       "      <td>11.4</td>\n",
       "      <td>Mid-range product</td>\n",
       "      <td>Mid-range product</td>\n",
       "      <td>Regularly busy</td>\n",
       "      <td>Normal_days</td>\n",
       "      <td>Most busy hours</td>\n",
       "      <td>56</td>\n",
       "      <td>Loyal customer</td>\n",
       "      <td>NaN</td>\n",
       "      <td>NaN</td>\n",
       "      <td>NaN</td>\n",
       "      <td>NaN</td>\n",
       "      <td>Female</td>\n",
       "      <td>Wisconsin</td>\n",
       "      <td>75</td>\n",
       "      <td>10/23/2017</td>\n",
       "      <td>2</td>\n",
       "      <td>married</td>\n",
       "      <td>80939</td>\n",
       "      <td>9.25</td>\n",
       "      <td>Low spender</td>\n",
       "    </tr>\n",
       "    <tr>\n",
       "      <th>3</th>\n",
       "      <td>7447</td>\n",
       "      <td>76142</td>\n",
       "      <td>56</td>\n",
       "      <td>5</td>\n",
       "      <td>11</td>\n",
       "      <td>4.0</td>\n",
       "      <td>False</td>\n",
       "      <td>47310</td>\n",
       "      <td>4</td>\n",
       "      <td>0</td>\n",
       "      <td>both</td>\n",
       "      <td>Shells &amp; White Cheddar Mac &amp; Cheese Family Siz...</td>\n",
       "      <td>4</td>\n",
       "      <td>9</td>\n",
       "      <td>2.4</td>\n",
       "      <td>Low-range product</td>\n",
       "      <td>Low-range product</td>\n",
       "      <td>Regularly busy</td>\n",
       "      <td>Normal_days</td>\n",
       "      <td>Most busy hours</td>\n",
       "      <td>56</td>\n",
       "      <td>Loyal customer</td>\n",
       "      <td>NaN</td>\n",
       "      <td>NaN</td>\n",
       "      <td>NaN</td>\n",
       "      <td>NaN</td>\n",
       "      <td>Female</td>\n",
       "      <td>Wisconsin</td>\n",
       "      <td>75</td>\n",
       "      <td>10/23/2017</td>\n",
       "      <td>2</td>\n",
       "      <td>married</td>\n",
       "      <td>80939</td>\n",
       "      <td>9.25</td>\n",
       "      <td>Low spender</td>\n",
       "    </tr>\n",
       "    <tr>\n",
       "      <th>4</th>\n",
       "      <td>7447</td>\n",
       "      <td>76142</td>\n",
       "      <td>56</td>\n",
       "      <td>5</td>\n",
       "      <td>11</td>\n",
       "      <td>4.0</td>\n",
       "      <td>False</td>\n",
       "      <td>25577</td>\n",
       "      <td>5</td>\n",
       "      <td>0</td>\n",
       "      <td>both</td>\n",
       "      <td>Organic Bunny Pasta &amp; Chicken Broth Soup</td>\n",
       "      <td>69</td>\n",
       "      <td>15</td>\n",
       "      <td>9.1</td>\n",
       "      <td>Mid-range product</td>\n",
       "      <td>Mid-range product</td>\n",
       "      <td>Regularly busy</td>\n",
       "      <td>Normal_days</td>\n",
       "      <td>Most busy hours</td>\n",
       "      <td>56</td>\n",
       "      <td>Loyal customer</td>\n",
       "      <td>NaN</td>\n",
       "      <td>NaN</td>\n",
       "      <td>NaN</td>\n",
       "      <td>NaN</td>\n",
       "      <td>Female</td>\n",
       "      <td>Wisconsin</td>\n",
       "      <td>75</td>\n",
       "      <td>10/23/2017</td>\n",
       "      <td>2</td>\n",
       "      <td>married</td>\n",
       "      <td>80939</td>\n",
       "      <td>9.25</td>\n",
       "      <td>Low spender</td>\n",
       "    </tr>\n",
       "  </tbody>\n",
       "</table>\n",
       "</div>"
      ],
      "text/plain": [
       "   order_id user_id  order_number  orders_day_of_week  order_hour_of_day  \\\n",
       "0      7447   76142            56                   5                 11   \n",
       "1      7447   76142            56                   5                 11   \n",
       "2      7447   76142            56                   5                 11   \n",
       "3      7447   76142            56                   5                 11   \n",
       "4      7447   76142            56                   5                 11   \n",
       "\n",
       "   days_from_last_order  first_order  product_id  add_to_cart_order  \\\n",
       "0                   4.0        False       38526                  1   \n",
       "1                   4.0        False       39747                  2   \n",
       "2                   4.0        False       27086                  3   \n",
       "3                   4.0        False       47310                  4   \n",
       "4                   4.0        False       25577                  5   \n",
       "\n",
       "   reordered _merge                                       product_name  \\\n",
       "0          1   both                       Garlic Bread With Mozzarella   \n",
       "1          0   both                     Mixed Berry English Tea Scones   \n",
       "2          1   both                                        Half & Half   \n",
       "3          0   both  Shells & White Cheddar Mac & Cheese Family Siz...   \n",
       "4          0   both           Organic Bunny Pasta & Chicken Broth Soup   \n",
       "\n",
       "   aisle_id  department_id  prices        price_range    price_range_loc  \\\n",
       "0        13             20    11.0  Mid-range product  Mid-range product   \n",
       "1        93              3     6.6  Mid-range product  Mid-range product   \n",
       "2        53             16    11.4  Mid-range product  Mid-range product   \n",
       "3         4              9     2.4  Low-range product  Low-range product   \n",
       "4        69             15     9.1  Mid-range product  Mid-range product   \n",
       "\n",
       "      busiest_day Busiest_days busiest_period_of_day  max_order  \\\n",
       "0  Regularly busy  Normal_days       Most busy hours         56   \n",
       "1  Regularly busy  Normal_days       Most busy hours         56   \n",
       "2  Regularly busy  Normal_days       Most busy hours         56   \n",
       "3  Regularly busy  Normal_days       Most busy hours         56   \n",
       "4  Regularly busy  Normal_days       Most busy hours         56   \n",
       "\n",
       "     loyalty_flag  average_spending spending_flag  frequency_orders  \\\n",
       "0  Loyal customer               NaN           NaN               NaN   \n",
       "1  Loyal customer               NaN           NaN               NaN   \n",
       "2  Loyal customer               NaN           NaN               NaN   \n",
       "3  Loyal customer               NaN           NaN               NaN   \n",
       "4  Loyal customer               NaN           NaN               NaN   \n",
       "\n",
       "  frequency_flag  gender      state  age date_joined  dependants fam_status  \\\n",
       "0            NaN  Female  Wisconsin   75  10/23/2017           2    married   \n",
       "1            NaN  Female  Wisconsin   75  10/23/2017           2    married   \n",
       "2            NaN  Female  Wisconsin   75  10/23/2017           2    married   \n",
       "3            NaN  Female  Wisconsin   75  10/23/2017           2    married   \n",
       "4            NaN  Female  Wisconsin   75  10/23/2017           2    married   \n",
       "\n",
       "   income  avg_order_cost_by_cust spender_flag  \n",
       "0   80939                    9.25  Low spender  \n",
       "1   80939                    9.25  Low spender  \n",
       "2   80939                    9.25  Low spender  \n",
       "3   80939                    9.25  Low spender  \n",
       "4   80939                    9.25  Low spender  "
      ]
     },
     "execution_count": 13,
     "metadata": {},
     "output_type": "execute_result"
    }
   ],
   "source": [
    "instacart.head()"
   ]
  },
  {
   "cell_type": "code",
   "execution_count": 14,
   "id": "b3354036",
   "metadata": {},
   "outputs": [],
   "source": [
    "# Now let's add a region column with np\n",
    "\n",
    "condition = [instacart['state'].isin(Northeast),instacart['state'].isin(Midwest),instacart['state'].isin(South),instacart['state'].isin(West)]\n",
    "definition = ['Northeast','Midwest','South','West']\n",
    "\n",
    "instacart['region']=np.select(condition,definition)"
   ]
  },
  {
   "cell_type": "code",
   "execution_count": 15,
   "id": "d249d0e2",
   "metadata": {},
   "outputs": [
    {
     "data": {
      "text/html": [
       "<div>\n",
       "<style scoped>\n",
       "    .dataframe tbody tr th:only-of-type {\n",
       "        vertical-align: middle;\n",
       "    }\n",
       "\n",
       "    .dataframe tbody tr th {\n",
       "        vertical-align: top;\n",
       "    }\n",
       "\n",
       "    .dataframe thead th {\n",
       "        text-align: right;\n",
       "    }\n",
       "</style>\n",
       "<table border=\"1\" class=\"dataframe\">\n",
       "  <thead>\n",
       "    <tr style=\"text-align: right;\">\n",
       "      <th></th>\n",
       "      <th>order_id</th>\n",
       "      <th>user_id</th>\n",
       "      <th>order_number</th>\n",
       "      <th>orders_day_of_week</th>\n",
       "      <th>order_hour_of_day</th>\n",
       "      <th>days_from_last_order</th>\n",
       "      <th>first_order</th>\n",
       "      <th>product_id</th>\n",
       "      <th>add_to_cart_order</th>\n",
       "      <th>reordered</th>\n",
       "      <th>_merge</th>\n",
       "      <th>product_name</th>\n",
       "      <th>aisle_id</th>\n",
       "      <th>department_id</th>\n",
       "      <th>prices</th>\n",
       "      <th>price_range</th>\n",
       "      <th>price_range_loc</th>\n",
       "      <th>busiest_day</th>\n",
       "      <th>Busiest_days</th>\n",
       "      <th>busiest_period_of_day</th>\n",
       "      <th>max_order</th>\n",
       "      <th>loyalty_flag</th>\n",
       "      <th>average_spending</th>\n",
       "      <th>spending_flag</th>\n",
       "      <th>frequency_orders</th>\n",
       "      <th>frequency_flag</th>\n",
       "      <th>gender</th>\n",
       "      <th>state</th>\n",
       "      <th>age</th>\n",
       "      <th>date_joined</th>\n",
       "      <th>dependants</th>\n",
       "      <th>fam_status</th>\n",
       "      <th>income</th>\n",
       "      <th>avg_order_cost_by_cust</th>\n",
       "      <th>spender_flag</th>\n",
       "      <th>region</th>\n",
       "    </tr>\n",
       "  </thead>\n",
       "  <tbody>\n",
       "    <tr>\n",
       "      <th>0</th>\n",
       "      <td>7447</td>\n",
       "      <td>76142</td>\n",
       "      <td>56</td>\n",
       "      <td>5</td>\n",
       "      <td>11</td>\n",
       "      <td>4.0</td>\n",
       "      <td>False</td>\n",
       "      <td>38526</td>\n",
       "      <td>1</td>\n",
       "      <td>1</td>\n",
       "      <td>both</td>\n",
       "      <td>Garlic Bread With Mozzarella</td>\n",
       "      <td>13</td>\n",
       "      <td>20</td>\n",
       "      <td>11.0</td>\n",
       "      <td>Mid-range product</td>\n",
       "      <td>Mid-range product</td>\n",
       "      <td>Regularly busy</td>\n",
       "      <td>Normal_days</td>\n",
       "      <td>Most busy hours</td>\n",
       "      <td>56</td>\n",
       "      <td>Loyal customer</td>\n",
       "      <td>NaN</td>\n",
       "      <td>NaN</td>\n",
       "      <td>NaN</td>\n",
       "      <td>NaN</td>\n",
       "      <td>Female</td>\n",
       "      <td>Wisconsin</td>\n",
       "      <td>75</td>\n",
       "      <td>10/23/2017</td>\n",
       "      <td>2</td>\n",
       "      <td>married</td>\n",
       "      <td>80939</td>\n",
       "      <td>9.25</td>\n",
       "      <td>Low spender</td>\n",
       "      <td>Midwest</td>\n",
       "    </tr>\n",
       "    <tr>\n",
       "      <th>1</th>\n",
       "      <td>7447</td>\n",
       "      <td>76142</td>\n",
       "      <td>56</td>\n",
       "      <td>5</td>\n",
       "      <td>11</td>\n",
       "      <td>4.0</td>\n",
       "      <td>False</td>\n",
       "      <td>39747</td>\n",
       "      <td>2</td>\n",
       "      <td>0</td>\n",
       "      <td>both</td>\n",
       "      <td>Mixed Berry English Tea Scones</td>\n",
       "      <td>93</td>\n",
       "      <td>3</td>\n",
       "      <td>6.6</td>\n",
       "      <td>Mid-range product</td>\n",
       "      <td>Mid-range product</td>\n",
       "      <td>Regularly busy</td>\n",
       "      <td>Normal_days</td>\n",
       "      <td>Most busy hours</td>\n",
       "      <td>56</td>\n",
       "      <td>Loyal customer</td>\n",
       "      <td>NaN</td>\n",
       "      <td>NaN</td>\n",
       "      <td>NaN</td>\n",
       "      <td>NaN</td>\n",
       "      <td>Female</td>\n",
       "      <td>Wisconsin</td>\n",
       "      <td>75</td>\n",
       "      <td>10/23/2017</td>\n",
       "      <td>2</td>\n",
       "      <td>married</td>\n",
       "      <td>80939</td>\n",
       "      <td>9.25</td>\n",
       "      <td>Low spender</td>\n",
       "      <td>Midwest</td>\n",
       "    </tr>\n",
       "    <tr>\n",
       "      <th>2</th>\n",
       "      <td>7447</td>\n",
       "      <td>76142</td>\n",
       "      <td>56</td>\n",
       "      <td>5</td>\n",
       "      <td>11</td>\n",
       "      <td>4.0</td>\n",
       "      <td>False</td>\n",
       "      <td>27086</td>\n",
       "      <td>3</td>\n",
       "      <td>1</td>\n",
       "      <td>both</td>\n",
       "      <td>Half &amp; Half</td>\n",
       "      <td>53</td>\n",
       "      <td>16</td>\n",
       "      <td>11.4</td>\n",
       "      <td>Mid-range product</td>\n",
       "      <td>Mid-range product</td>\n",
       "      <td>Regularly busy</td>\n",
       "      <td>Normal_days</td>\n",
       "      <td>Most busy hours</td>\n",
       "      <td>56</td>\n",
       "      <td>Loyal customer</td>\n",
       "      <td>NaN</td>\n",
       "      <td>NaN</td>\n",
       "      <td>NaN</td>\n",
       "      <td>NaN</td>\n",
       "      <td>Female</td>\n",
       "      <td>Wisconsin</td>\n",
       "      <td>75</td>\n",
       "      <td>10/23/2017</td>\n",
       "      <td>2</td>\n",
       "      <td>married</td>\n",
       "      <td>80939</td>\n",
       "      <td>9.25</td>\n",
       "      <td>Low spender</td>\n",
       "      <td>Midwest</td>\n",
       "    </tr>\n",
       "    <tr>\n",
       "      <th>3</th>\n",
       "      <td>7447</td>\n",
       "      <td>76142</td>\n",
       "      <td>56</td>\n",
       "      <td>5</td>\n",
       "      <td>11</td>\n",
       "      <td>4.0</td>\n",
       "      <td>False</td>\n",
       "      <td>47310</td>\n",
       "      <td>4</td>\n",
       "      <td>0</td>\n",
       "      <td>both</td>\n",
       "      <td>Shells &amp; White Cheddar Mac &amp; Cheese Family Siz...</td>\n",
       "      <td>4</td>\n",
       "      <td>9</td>\n",
       "      <td>2.4</td>\n",
       "      <td>Low-range product</td>\n",
       "      <td>Low-range product</td>\n",
       "      <td>Regularly busy</td>\n",
       "      <td>Normal_days</td>\n",
       "      <td>Most busy hours</td>\n",
       "      <td>56</td>\n",
       "      <td>Loyal customer</td>\n",
       "      <td>NaN</td>\n",
       "      <td>NaN</td>\n",
       "      <td>NaN</td>\n",
       "      <td>NaN</td>\n",
       "      <td>Female</td>\n",
       "      <td>Wisconsin</td>\n",
       "      <td>75</td>\n",
       "      <td>10/23/2017</td>\n",
       "      <td>2</td>\n",
       "      <td>married</td>\n",
       "      <td>80939</td>\n",
       "      <td>9.25</td>\n",
       "      <td>Low spender</td>\n",
       "      <td>Midwest</td>\n",
       "    </tr>\n",
       "    <tr>\n",
       "      <th>4</th>\n",
       "      <td>7447</td>\n",
       "      <td>76142</td>\n",
       "      <td>56</td>\n",
       "      <td>5</td>\n",
       "      <td>11</td>\n",
       "      <td>4.0</td>\n",
       "      <td>False</td>\n",
       "      <td>25577</td>\n",
       "      <td>5</td>\n",
       "      <td>0</td>\n",
       "      <td>both</td>\n",
       "      <td>Organic Bunny Pasta &amp; Chicken Broth Soup</td>\n",
       "      <td>69</td>\n",
       "      <td>15</td>\n",
       "      <td>9.1</td>\n",
       "      <td>Mid-range product</td>\n",
       "      <td>Mid-range product</td>\n",
       "      <td>Regularly busy</td>\n",
       "      <td>Normal_days</td>\n",
       "      <td>Most busy hours</td>\n",
       "      <td>56</td>\n",
       "      <td>Loyal customer</td>\n",
       "      <td>NaN</td>\n",
       "      <td>NaN</td>\n",
       "      <td>NaN</td>\n",
       "      <td>NaN</td>\n",
       "      <td>Female</td>\n",
       "      <td>Wisconsin</td>\n",
       "      <td>75</td>\n",
       "      <td>10/23/2017</td>\n",
       "      <td>2</td>\n",
       "      <td>married</td>\n",
       "      <td>80939</td>\n",
       "      <td>9.25</td>\n",
       "      <td>Low spender</td>\n",
       "      <td>Midwest</td>\n",
       "    </tr>\n",
       "  </tbody>\n",
       "</table>\n",
       "</div>"
      ],
      "text/plain": [
       "   order_id user_id  order_number  orders_day_of_week  order_hour_of_day  \\\n",
       "0      7447   76142            56                   5                 11   \n",
       "1      7447   76142            56                   5                 11   \n",
       "2      7447   76142            56                   5                 11   \n",
       "3      7447   76142            56                   5                 11   \n",
       "4      7447   76142            56                   5                 11   \n",
       "\n",
       "   days_from_last_order  first_order  product_id  add_to_cart_order  \\\n",
       "0                   4.0        False       38526                  1   \n",
       "1                   4.0        False       39747                  2   \n",
       "2                   4.0        False       27086                  3   \n",
       "3                   4.0        False       47310                  4   \n",
       "4                   4.0        False       25577                  5   \n",
       "\n",
       "   reordered _merge                                       product_name  \\\n",
       "0          1   both                       Garlic Bread With Mozzarella   \n",
       "1          0   both                     Mixed Berry English Tea Scones   \n",
       "2          1   both                                        Half & Half   \n",
       "3          0   both  Shells & White Cheddar Mac & Cheese Family Siz...   \n",
       "4          0   both           Organic Bunny Pasta & Chicken Broth Soup   \n",
       "\n",
       "   aisle_id  department_id  prices        price_range    price_range_loc  \\\n",
       "0        13             20    11.0  Mid-range product  Mid-range product   \n",
       "1        93              3     6.6  Mid-range product  Mid-range product   \n",
       "2        53             16    11.4  Mid-range product  Mid-range product   \n",
       "3         4              9     2.4  Low-range product  Low-range product   \n",
       "4        69             15     9.1  Mid-range product  Mid-range product   \n",
       "\n",
       "      busiest_day Busiest_days busiest_period_of_day  max_order  \\\n",
       "0  Regularly busy  Normal_days       Most busy hours         56   \n",
       "1  Regularly busy  Normal_days       Most busy hours         56   \n",
       "2  Regularly busy  Normal_days       Most busy hours         56   \n",
       "3  Regularly busy  Normal_days       Most busy hours         56   \n",
       "4  Regularly busy  Normal_days       Most busy hours         56   \n",
       "\n",
       "     loyalty_flag  average_spending spending_flag  frequency_orders  \\\n",
       "0  Loyal customer               NaN           NaN               NaN   \n",
       "1  Loyal customer               NaN           NaN               NaN   \n",
       "2  Loyal customer               NaN           NaN               NaN   \n",
       "3  Loyal customer               NaN           NaN               NaN   \n",
       "4  Loyal customer               NaN           NaN               NaN   \n",
       "\n",
       "  frequency_flag  gender      state  age date_joined  dependants fam_status  \\\n",
       "0            NaN  Female  Wisconsin   75  10/23/2017           2    married   \n",
       "1            NaN  Female  Wisconsin   75  10/23/2017           2    married   \n",
       "2            NaN  Female  Wisconsin   75  10/23/2017           2    married   \n",
       "3            NaN  Female  Wisconsin   75  10/23/2017           2    married   \n",
       "4            NaN  Female  Wisconsin   75  10/23/2017           2    married   \n",
       "\n",
       "   income  avg_order_cost_by_cust spender_flag   region  \n",
       "0   80939                    9.25  Low spender  Midwest  \n",
       "1   80939                    9.25  Low spender  Midwest  \n",
       "2   80939                    9.25  Low spender  Midwest  \n",
       "3   80939                    9.25  Low spender  Midwest  \n",
       "4   80939                    9.25  Low spender  Midwest  "
      ]
     },
     "execution_count": 15,
     "metadata": {},
     "output_type": "execute_result"
    }
   ],
   "source": [
    "# Check output\n",
    "\n",
    "instacart.head()"
   ]
  },
  {
   "cell_type": "code",
   "execution_count": 16,
   "id": "dcc90b2e",
   "metadata": {},
   "outputs": [],
   "source": [
    "# Now we create a crosstab\n",
    "\n",
    "crosstab = pd.crosstab(instacart['region'],instacart['spender_flag'],dropna = False)"
   ]
  },
  {
   "cell_type": "code",
   "execution_count": 17,
   "id": "577dfa72",
   "metadata": {},
   "outputs": [
    {
     "data": {
      "text/html": [
       "<div>\n",
       "<style scoped>\n",
       "    .dataframe tbody tr th:only-of-type {\n",
       "        vertical-align: middle;\n",
       "    }\n",
       "\n",
       "    .dataframe tbody tr th {\n",
       "        vertical-align: top;\n",
       "    }\n",
       "\n",
       "    .dataframe thead th {\n",
       "        text-align: right;\n",
       "    }\n",
       "</style>\n",
       "<table border=\"1\" class=\"dataframe\">\n",
       "  <thead>\n",
       "    <tr style=\"text-align: right;\">\n",
       "      <th>spender_flag</th>\n",
       "      <th>High spender</th>\n",
       "      <th>Low spender</th>\n",
       "    </tr>\n",
       "    <tr>\n",
       "      <th>region</th>\n",
       "      <th></th>\n",
       "      <th></th>\n",
       "    </tr>\n",
       "  </thead>\n",
       "  <tbody>\n",
       "    <tr>\n",
       "      <th>Midwest</th>\n",
       "      <td>0</td>\n",
       "      <td>185</td>\n",
       "    </tr>\n",
       "    <tr>\n",
       "      <th>Northeast</th>\n",
       "      <td>6</td>\n",
       "      <td>165</td>\n",
       "    </tr>\n",
       "    <tr>\n",
       "      <th>South</th>\n",
       "      <td>28</td>\n",
       "      <td>405</td>\n",
       "    </tr>\n",
       "    <tr>\n",
       "      <th>West</th>\n",
       "      <td>17</td>\n",
       "      <td>181</td>\n",
       "    </tr>\n",
       "  </tbody>\n",
       "</table>\n",
       "</div>"
      ],
      "text/plain": [
       "spender_flag  High spender  Low spender\n",
       "region                                 \n",
       "Midwest                  0          185\n",
       "Northeast                6          165\n",
       "South                   28          405\n",
       "West                    17          181"
      ]
     },
     "execution_count": 17,
     "metadata": {},
     "output_type": "execute_result"
    }
   ],
   "source": [
    "# To check the output\n",
    "\n",
    "crosstab"
   ]
  },
  {
   "cell_type": "markdown",
   "id": "63233674",
   "metadata": {},
   "source": [
    "It looks like there is no significant differences between the number of high and low spending customers. Low spenders represent less than 10 % in every region on our sample."
   ]
  },
  {
   "cell_type": "markdown",
   "id": "ad8f860c",
   "metadata": {},
   "source": [
    "## 4. Excluding low activity customers"
   ]
  },
  {
   "cell_type": "code",
   "execution_count": 18,
   "id": "754700fe",
   "metadata": {},
   "outputs": [],
   "source": [
    "# Firstly we will create a flag for the activity, separating between low and normal activity\n",
    "\n",
    "instacart.loc[instacart['max_order'] < 5, 'activity_flag'] = 'Low activity'"
   ]
  },
  {
   "cell_type": "code",
   "execution_count": 19,
   "id": "593d1917",
   "metadata": {},
   "outputs": [],
   "source": [
    "# We also define the normal activity\n",
    "\n",
    "instacart.loc[instacart['max_order'] >= 5, 'activity_flag'] = 'Normal activity'"
   ]
  },
  {
   "cell_type": "code",
   "execution_count": 20,
   "id": "2d65fc21",
   "metadata": {},
   "outputs": [
    {
     "data": {
      "text/plain": [
       "Normal activity    735\n",
       "Low activity       252\n",
       "Name: activity_flag, dtype: int64"
      ]
     },
     "execution_count": 20,
     "metadata": {},
     "output_type": "execute_result"
    }
   ],
   "source": [
    "# To see how many values\n",
    "\n",
    "instacart['activity_flag'].value_counts(dropna = False)"
   ]
  },
  {
   "cell_type": "markdown",
   "id": "96075dd7",
   "metadata": {},
   "source": [
    "### 4.1. Exporting this samples"
   ]
  },
  {
   "cell_type": "code",
   "execution_count": 19,
   "id": "e97093be",
   "metadata": {},
   "outputs": [],
   "source": [
    "# We have to create a subset for low activity customers and another one for normal activity customers\n",
    "# Firstly we create the low activity one and check the shape. This set will be excluded from our analysis\n",
    "\n",
    "instacart_low_activity = instacart[instacart['activity_flag']=='Low activity']"
   ]
  },
  {
   "cell_type": "code",
   "execution_count": 20,
   "id": "b8a13a18",
   "metadata": {},
   "outputs": [
    {
     "data": {
      "text/plain": [
       "(252, 37)"
      ]
     },
     "execution_count": 20,
     "metadata": {},
     "output_type": "execute_result"
    }
   ],
   "source": [
    "instacart_low_activity.shape"
   ]
  },
  {
   "cell_type": "code",
   "execution_count": 21,
   "id": "0aaa196c",
   "metadata": {},
   "outputs": [],
   "source": [
    "# Now, for the customers we want to analyse\n",
    "\n",
    "instacart_normal_activity = instacart[instacart['activity_flag']=='Normal activity']"
   ]
  },
  {
   "cell_type": "code",
   "execution_count": 22,
   "id": "e6c42941",
   "metadata": {},
   "outputs": [],
   "source": [
    "# To export the subsets\n",
    "\n",
    "instacart_low_activity.to_pickle(os.path.join(path,'2. Data','2.2. Prepared Data','instacart_low_activity.pkl'))"
   ]
  },
  {
   "cell_type": "code",
   "execution_count": 23,
   "id": "2146f9e0",
   "metadata": {},
   "outputs": [],
   "source": [
    "instacart_normal_activity.to_pickle(os.path.join(path,'2. Data','2.2. Prepared Data','instacart_normal_activity.pkl'))"
   ]
  },
  {
   "cell_type": "markdown",
   "id": "30687410",
   "metadata": {},
   "source": [
    "## 5. Customer profiling"
   ]
  },
  {
   "cell_type": "markdown",
   "id": "75a4afa2",
   "metadata": {},
   "source": [
    "The aim here is to create a profiling variable based on age, income and number of dependents. It will be useful as well to look at the day and hour of the orders."
   ]
  },
  {
   "cell_type": "code",
   "execution_count": 21,
   "id": "438b50a9",
   "metadata": {},
   "outputs": [],
   "source": [
    "# In order to determine which departments the products belong to, let's import the departments dataframe \n",
    "\n",
    "departments = pd.read_csv(os.path.join(path, '2. Data', '2.1. Original Data', 'departments.csv'), index_col= 0)"
   ]
  },
  {
   "cell_type": "code",
   "execution_count": 22,
   "id": "5e9625e1",
   "metadata": {},
   "outputs": [
    {
     "data": {
      "text/html": [
       "<div>\n",
       "<style scoped>\n",
       "    .dataframe tbody tr th:only-of-type {\n",
       "        vertical-align: middle;\n",
       "    }\n",
       "\n",
       "    .dataframe tbody tr th {\n",
       "        vertical-align: top;\n",
       "    }\n",
       "\n",
       "    .dataframe thead th {\n",
       "        text-align: right;\n",
       "    }\n",
       "</style>\n",
       "<table border=\"1\" class=\"dataframe\">\n",
       "  <thead>\n",
       "    <tr style=\"text-align: right;\">\n",
       "      <th></th>\n",
       "      <th>1</th>\n",
       "      <th>2</th>\n",
       "      <th>3</th>\n",
       "      <th>4</th>\n",
       "      <th>5</th>\n",
       "      <th>6</th>\n",
       "      <th>7</th>\n",
       "      <th>8</th>\n",
       "      <th>9</th>\n",
       "      <th>10</th>\n",
       "      <th>11</th>\n",
       "      <th>12</th>\n",
       "      <th>13</th>\n",
       "      <th>14</th>\n",
       "      <th>15</th>\n",
       "      <th>16</th>\n",
       "      <th>17</th>\n",
       "      <th>18</th>\n",
       "      <th>19</th>\n",
       "      <th>20</th>\n",
       "      <th>21</th>\n",
       "    </tr>\n",
       "    <tr>\n",
       "      <th>department_id</th>\n",
       "      <th></th>\n",
       "      <th></th>\n",
       "      <th></th>\n",
       "      <th></th>\n",
       "      <th></th>\n",
       "      <th></th>\n",
       "      <th></th>\n",
       "      <th></th>\n",
       "      <th></th>\n",
       "      <th></th>\n",
       "      <th></th>\n",
       "      <th></th>\n",
       "      <th></th>\n",
       "      <th></th>\n",
       "      <th></th>\n",
       "      <th></th>\n",
       "      <th></th>\n",
       "      <th></th>\n",
       "      <th></th>\n",
       "      <th></th>\n",
       "      <th></th>\n",
       "    </tr>\n",
       "  </thead>\n",
       "  <tbody>\n",
       "    <tr>\n",
       "      <th>department</th>\n",
       "      <td>frozen</td>\n",
       "      <td>other</td>\n",
       "      <td>bakery</td>\n",
       "      <td>produce</td>\n",
       "      <td>alcohol</td>\n",
       "      <td>international</td>\n",
       "      <td>beverages</td>\n",
       "      <td>pets</td>\n",
       "      <td>dry goods pasta</td>\n",
       "      <td>bulk</td>\n",
       "      <td>personal care</td>\n",
       "      <td>meat seafood</td>\n",
       "      <td>pantry</td>\n",
       "      <td>breakfast</td>\n",
       "      <td>canned goods</td>\n",
       "      <td>dairy eggs</td>\n",
       "      <td>household</td>\n",
       "      <td>babies</td>\n",
       "      <td>snacks</td>\n",
       "      <td>deli</td>\n",
       "      <td>missing</td>\n",
       "    </tr>\n",
       "  </tbody>\n",
       "</table>\n",
       "</div>"
      ],
      "text/plain": [
       "                    1      2       3        4        5              6  \\\n",
       "department_id                                                           \n",
       "department     frozen  other  bakery  produce  alcohol  international   \n",
       "\n",
       "                       7     8                9    10             11  \\\n",
       "department_id                                                          \n",
       "department     beverages  pets  dry goods pasta  bulk  personal care   \n",
       "\n",
       "                         12      13         14            15          16  \\\n",
       "department_id                                                              \n",
       "department     meat seafood  pantry  breakfast  canned goods  dairy eggs   \n",
       "\n",
       "                      17      18      19    20       21  \n",
       "department_id                                            \n",
       "department     household  babies  snacks  deli  missing  "
      ]
     },
     "execution_count": 22,
     "metadata": {},
     "output_type": "execute_result"
    }
   ],
   "source": [
    "departments"
   ]
  },
  {
   "cell_type": "code",
   "execution_count": 23,
   "id": "7b511641",
   "metadata": {},
   "outputs": [],
   "source": [
    "# Let's transpose this \n",
    "\n",
    "departments = departments.T"
   ]
  },
  {
   "cell_type": "code",
   "execution_count": 24,
   "id": "33e1d8e6",
   "metadata": {},
   "outputs": [
    {
     "data": {
      "text/html": [
       "<div>\n",
       "<style scoped>\n",
       "    .dataframe tbody tr th:only-of-type {\n",
       "        vertical-align: middle;\n",
       "    }\n",
       "\n",
       "    .dataframe tbody tr th {\n",
       "        vertical-align: top;\n",
       "    }\n",
       "\n",
       "    .dataframe thead th {\n",
       "        text-align: right;\n",
       "    }\n",
       "</style>\n",
       "<table border=\"1\" class=\"dataframe\">\n",
       "  <thead>\n",
       "    <tr style=\"text-align: right;\">\n",
       "      <th>department_id</th>\n",
       "      <th>department</th>\n",
       "    </tr>\n",
       "  </thead>\n",
       "  <tbody>\n",
       "    <tr>\n",
       "      <th>1</th>\n",
       "      <td>frozen</td>\n",
       "    </tr>\n",
       "    <tr>\n",
       "      <th>2</th>\n",
       "      <td>other</td>\n",
       "    </tr>\n",
       "    <tr>\n",
       "      <th>3</th>\n",
       "      <td>bakery</td>\n",
       "    </tr>\n",
       "    <tr>\n",
       "      <th>4</th>\n",
       "      <td>produce</td>\n",
       "    </tr>\n",
       "    <tr>\n",
       "      <th>5</th>\n",
       "      <td>alcohol</td>\n",
       "    </tr>\n",
       "    <tr>\n",
       "      <th>6</th>\n",
       "      <td>international</td>\n",
       "    </tr>\n",
       "    <tr>\n",
       "      <th>7</th>\n",
       "      <td>beverages</td>\n",
       "    </tr>\n",
       "    <tr>\n",
       "      <th>8</th>\n",
       "      <td>pets</td>\n",
       "    </tr>\n",
       "    <tr>\n",
       "      <th>9</th>\n",
       "      <td>dry goods pasta</td>\n",
       "    </tr>\n",
       "    <tr>\n",
       "      <th>10</th>\n",
       "      <td>bulk</td>\n",
       "    </tr>\n",
       "    <tr>\n",
       "      <th>11</th>\n",
       "      <td>personal care</td>\n",
       "    </tr>\n",
       "    <tr>\n",
       "      <th>12</th>\n",
       "      <td>meat seafood</td>\n",
       "    </tr>\n",
       "    <tr>\n",
       "      <th>13</th>\n",
       "      <td>pantry</td>\n",
       "    </tr>\n",
       "    <tr>\n",
       "      <th>14</th>\n",
       "      <td>breakfast</td>\n",
       "    </tr>\n",
       "    <tr>\n",
       "      <th>15</th>\n",
       "      <td>canned goods</td>\n",
       "    </tr>\n",
       "    <tr>\n",
       "      <th>16</th>\n",
       "      <td>dairy eggs</td>\n",
       "    </tr>\n",
       "    <tr>\n",
       "      <th>17</th>\n",
       "      <td>household</td>\n",
       "    </tr>\n",
       "    <tr>\n",
       "      <th>18</th>\n",
       "      <td>babies</td>\n",
       "    </tr>\n",
       "    <tr>\n",
       "      <th>19</th>\n",
       "      <td>snacks</td>\n",
       "    </tr>\n",
       "    <tr>\n",
       "      <th>20</th>\n",
       "      <td>deli</td>\n",
       "    </tr>\n",
       "    <tr>\n",
       "      <th>21</th>\n",
       "      <td>missing</td>\n",
       "    </tr>\n",
       "  </tbody>\n",
       "</table>\n",
       "</div>"
      ],
      "text/plain": [
       "department_id       department\n",
       "1                       frozen\n",
       "2                        other\n",
       "3                       bakery\n",
       "4                      produce\n",
       "5                      alcohol\n",
       "6                international\n",
       "7                    beverages\n",
       "8                         pets\n",
       "9              dry goods pasta\n",
       "10                        bulk\n",
       "11               personal care\n",
       "12                meat seafood\n",
       "13                      pantry\n",
       "14                   breakfast\n",
       "15                canned goods\n",
       "16                  dairy eggs\n",
       "17                   household\n",
       "18                      babies\n",
       "19                      snacks\n",
       "20                        deli\n",
       "21                     missing"
      ]
     },
     "execution_count": 24,
     "metadata": {},
     "output_type": "execute_result"
    }
   ],
   "source": [
    "departments"
   ]
  },
  {
   "cell_type": "code",
   "execution_count": 25,
   "id": "e4234260",
   "metadata": {},
   "outputs": [
    {
     "data": {
      "text/plain": [
       "18    24\n",
       "19    17\n",
       "20    13\n",
       "21    11\n",
       "23    22\n",
       "24    43\n",
       "25     1\n",
       "26    12\n",
       "27    14\n",
       "28     3\n",
       "29    11\n",
       "30    32\n",
       "31     7\n",
       "32     9\n",
       "33    28\n",
       "35    27\n",
       "36    25\n",
       "37    17\n",
       "38    14\n",
       "39     3\n",
       "40    16\n",
       "41    24\n",
       "43    38\n",
       "44    34\n",
       "45    21\n",
       "46    14\n",
       "48    15\n",
       "49    15\n",
       "50    13\n",
       "54     6\n",
       "56     9\n",
       "57    23\n",
       "59    70\n",
       "61     2\n",
       "63    20\n",
       "64    66\n",
       "65    29\n",
       "68     3\n",
       "69    56\n",
       "71    21\n",
       "72     9\n",
       "75    53\n",
       "77     7\n",
       "79     7\n",
       "80    38\n",
       "81    45\n",
       "Name: age, dtype: int64"
      ]
     },
     "execution_count": 25,
     "metadata": {},
     "output_type": "execute_result"
    }
   ],
   "source": [
    "# Check the age range of customers \n",
    "\n",
    "instacart['age'].value_counts().sort_index()"
   ]
  },
  {
   "cell_type": "markdown",
   "id": "49167805",
   "metadata": {},
   "source": [
    "We have customers from 18 to 81 years old. I was thinking of using alcohol as a product to differentiate, but everyone can access to it so will not use this department."
   ]
  },
  {
   "cell_type": "code",
   "execution_count": 26,
   "id": "76e4f596",
   "metadata": {},
   "outputs": [],
   "source": [
    "# Let's create age ranges\n",
    "\n",
    "instacart.loc[(instacart['age'] >= 18) & (instacart['age'] <= 24), 'Age group'] = 'Youngsters 18-24'\n",
    "instacart.loc[(instacart['age'] >= 25) & (instacart['age'] <= 40), 'Age group'] = 'Busy workers 25-40'\n",
    "instacart.loc[(instacart['age'] >= 41) & (instacart['age'] <= 60), 'Age group'] = 'New moderns 41-60'\n",
    "instacart.loc[(instacart['age'] >= 61) & (instacart['age'] <= 81), 'Age group'] = 'Wise ones 61-81'\n"
   ]
  },
  {
   "cell_type": "code",
   "execution_count": 27,
   "id": "8c681055",
   "metadata": {},
   "outputs": [
    {
     "data": {
      "text/plain": [
       "Wise ones 61-81       356\n",
       "New moderns 41-60     282\n",
       "Busy workers 25-40    219\n",
       "Youngsters 18-24      130\n",
       "Name: Age group, dtype: int64"
      ]
     },
     "execution_count": 27,
     "metadata": {},
     "output_type": "execute_result"
    }
   ],
   "source": [
    "# Let's check the count\n",
    "\n",
    "instacart ['Age group'].value_counts()"
   ]
  },
  {
   "cell_type": "code",
   "execution_count": 28,
   "id": "bca05db0",
   "metadata": {},
   "outputs": [
    {
     "data": {
      "text/html": [
       "<div>\n",
       "<style scoped>\n",
       "    .dataframe tbody tr th:only-of-type {\n",
       "        vertical-align: middle;\n",
       "    }\n",
       "\n",
       "    .dataframe tbody tr th {\n",
       "        vertical-align: top;\n",
       "    }\n",
       "\n",
       "    .dataframe thead th {\n",
       "        text-align: right;\n",
       "    }\n",
       "</style>\n",
       "<table border=\"1\" class=\"dataframe\">\n",
       "  <thead>\n",
       "    <tr style=\"text-align: right;\">\n",
       "      <th></th>\n",
       "      <th>order_id</th>\n",
       "      <th>user_id</th>\n",
       "      <th>order_number</th>\n",
       "      <th>orders_day_of_week</th>\n",
       "      <th>order_hour_of_day</th>\n",
       "      <th>days_from_last_order</th>\n",
       "      <th>first_order</th>\n",
       "      <th>product_id</th>\n",
       "      <th>add_to_cart_order</th>\n",
       "      <th>reordered</th>\n",
       "      <th>_merge</th>\n",
       "      <th>product_name</th>\n",
       "      <th>aisle_id</th>\n",
       "      <th>department_id</th>\n",
       "      <th>prices</th>\n",
       "      <th>price_range</th>\n",
       "      <th>price_range_loc</th>\n",
       "      <th>busiest_day</th>\n",
       "      <th>Busiest_days</th>\n",
       "      <th>busiest_period_of_day</th>\n",
       "      <th>max_order</th>\n",
       "      <th>loyalty_flag</th>\n",
       "      <th>average_spending</th>\n",
       "      <th>spending_flag</th>\n",
       "      <th>frequency_orders</th>\n",
       "      <th>frequency_flag</th>\n",
       "      <th>gender</th>\n",
       "      <th>state</th>\n",
       "      <th>age</th>\n",
       "      <th>date_joined</th>\n",
       "      <th>dependants</th>\n",
       "      <th>fam_status</th>\n",
       "      <th>income</th>\n",
       "      <th>avg_order_cost_by_cust</th>\n",
       "      <th>spender_flag</th>\n",
       "      <th>region</th>\n",
       "      <th>activity_flag</th>\n",
       "      <th>Age group</th>\n",
       "    </tr>\n",
       "  </thead>\n",
       "  <tbody>\n",
       "    <tr>\n",
       "      <th>0</th>\n",
       "      <td>7447</td>\n",
       "      <td>76142</td>\n",
       "      <td>56</td>\n",
       "      <td>5</td>\n",
       "      <td>11</td>\n",
       "      <td>4.0</td>\n",
       "      <td>False</td>\n",
       "      <td>38526</td>\n",
       "      <td>1</td>\n",
       "      <td>1</td>\n",
       "      <td>both</td>\n",
       "      <td>Garlic Bread With Mozzarella</td>\n",
       "      <td>13</td>\n",
       "      <td>20</td>\n",
       "      <td>11.0</td>\n",
       "      <td>Mid-range product</td>\n",
       "      <td>Mid-range product</td>\n",
       "      <td>Regularly busy</td>\n",
       "      <td>Normal_days</td>\n",
       "      <td>Most busy hours</td>\n",
       "      <td>56</td>\n",
       "      <td>Loyal customer</td>\n",
       "      <td>NaN</td>\n",
       "      <td>NaN</td>\n",
       "      <td>NaN</td>\n",
       "      <td>NaN</td>\n",
       "      <td>Female</td>\n",
       "      <td>Wisconsin</td>\n",
       "      <td>75</td>\n",
       "      <td>10/23/2017</td>\n",
       "      <td>2</td>\n",
       "      <td>married</td>\n",
       "      <td>80939</td>\n",
       "      <td>9.25</td>\n",
       "      <td>Low spender</td>\n",
       "      <td>Midwest</td>\n",
       "      <td>Normal activity</td>\n",
       "      <td>Wise ones 61-81</td>\n",
       "    </tr>\n",
       "    <tr>\n",
       "      <th>1</th>\n",
       "      <td>7447</td>\n",
       "      <td>76142</td>\n",
       "      <td>56</td>\n",
       "      <td>5</td>\n",
       "      <td>11</td>\n",
       "      <td>4.0</td>\n",
       "      <td>False</td>\n",
       "      <td>39747</td>\n",
       "      <td>2</td>\n",
       "      <td>0</td>\n",
       "      <td>both</td>\n",
       "      <td>Mixed Berry English Tea Scones</td>\n",
       "      <td>93</td>\n",
       "      <td>3</td>\n",
       "      <td>6.6</td>\n",
       "      <td>Mid-range product</td>\n",
       "      <td>Mid-range product</td>\n",
       "      <td>Regularly busy</td>\n",
       "      <td>Normal_days</td>\n",
       "      <td>Most busy hours</td>\n",
       "      <td>56</td>\n",
       "      <td>Loyal customer</td>\n",
       "      <td>NaN</td>\n",
       "      <td>NaN</td>\n",
       "      <td>NaN</td>\n",
       "      <td>NaN</td>\n",
       "      <td>Female</td>\n",
       "      <td>Wisconsin</td>\n",
       "      <td>75</td>\n",
       "      <td>10/23/2017</td>\n",
       "      <td>2</td>\n",
       "      <td>married</td>\n",
       "      <td>80939</td>\n",
       "      <td>9.25</td>\n",
       "      <td>Low spender</td>\n",
       "      <td>Midwest</td>\n",
       "      <td>Normal activity</td>\n",
       "      <td>Wise ones 61-81</td>\n",
       "    </tr>\n",
       "    <tr>\n",
       "      <th>2</th>\n",
       "      <td>7447</td>\n",
       "      <td>76142</td>\n",
       "      <td>56</td>\n",
       "      <td>5</td>\n",
       "      <td>11</td>\n",
       "      <td>4.0</td>\n",
       "      <td>False</td>\n",
       "      <td>27086</td>\n",
       "      <td>3</td>\n",
       "      <td>1</td>\n",
       "      <td>both</td>\n",
       "      <td>Half &amp; Half</td>\n",
       "      <td>53</td>\n",
       "      <td>16</td>\n",
       "      <td>11.4</td>\n",
       "      <td>Mid-range product</td>\n",
       "      <td>Mid-range product</td>\n",
       "      <td>Regularly busy</td>\n",
       "      <td>Normal_days</td>\n",
       "      <td>Most busy hours</td>\n",
       "      <td>56</td>\n",
       "      <td>Loyal customer</td>\n",
       "      <td>NaN</td>\n",
       "      <td>NaN</td>\n",
       "      <td>NaN</td>\n",
       "      <td>NaN</td>\n",
       "      <td>Female</td>\n",
       "      <td>Wisconsin</td>\n",
       "      <td>75</td>\n",
       "      <td>10/23/2017</td>\n",
       "      <td>2</td>\n",
       "      <td>married</td>\n",
       "      <td>80939</td>\n",
       "      <td>9.25</td>\n",
       "      <td>Low spender</td>\n",
       "      <td>Midwest</td>\n",
       "      <td>Normal activity</td>\n",
       "      <td>Wise ones 61-81</td>\n",
       "    </tr>\n",
       "    <tr>\n",
       "      <th>3</th>\n",
       "      <td>7447</td>\n",
       "      <td>76142</td>\n",
       "      <td>56</td>\n",
       "      <td>5</td>\n",
       "      <td>11</td>\n",
       "      <td>4.0</td>\n",
       "      <td>False</td>\n",
       "      <td>47310</td>\n",
       "      <td>4</td>\n",
       "      <td>0</td>\n",
       "      <td>both</td>\n",
       "      <td>Shells &amp; White Cheddar Mac &amp; Cheese Family Siz...</td>\n",
       "      <td>4</td>\n",
       "      <td>9</td>\n",
       "      <td>2.4</td>\n",
       "      <td>Low-range product</td>\n",
       "      <td>Low-range product</td>\n",
       "      <td>Regularly busy</td>\n",
       "      <td>Normal_days</td>\n",
       "      <td>Most busy hours</td>\n",
       "      <td>56</td>\n",
       "      <td>Loyal customer</td>\n",
       "      <td>NaN</td>\n",
       "      <td>NaN</td>\n",
       "      <td>NaN</td>\n",
       "      <td>NaN</td>\n",
       "      <td>Female</td>\n",
       "      <td>Wisconsin</td>\n",
       "      <td>75</td>\n",
       "      <td>10/23/2017</td>\n",
       "      <td>2</td>\n",
       "      <td>married</td>\n",
       "      <td>80939</td>\n",
       "      <td>9.25</td>\n",
       "      <td>Low spender</td>\n",
       "      <td>Midwest</td>\n",
       "      <td>Normal activity</td>\n",
       "      <td>Wise ones 61-81</td>\n",
       "    </tr>\n",
       "    <tr>\n",
       "      <th>4</th>\n",
       "      <td>7447</td>\n",
       "      <td>76142</td>\n",
       "      <td>56</td>\n",
       "      <td>5</td>\n",
       "      <td>11</td>\n",
       "      <td>4.0</td>\n",
       "      <td>False</td>\n",
       "      <td>25577</td>\n",
       "      <td>5</td>\n",
       "      <td>0</td>\n",
       "      <td>both</td>\n",
       "      <td>Organic Bunny Pasta &amp; Chicken Broth Soup</td>\n",
       "      <td>69</td>\n",
       "      <td>15</td>\n",
       "      <td>9.1</td>\n",
       "      <td>Mid-range product</td>\n",
       "      <td>Mid-range product</td>\n",
       "      <td>Regularly busy</td>\n",
       "      <td>Normal_days</td>\n",
       "      <td>Most busy hours</td>\n",
       "      <td>56</td>\n",
       "      <td>Loyal customer</td>\n",
       "      <td>NaN</td>\n",
       "      <td>NaN</td>\n",
       "      <td>NaN</td>\n",
       "      <td>NaN</td>\n",
       "      <td>Female</td>\n",
       "      <td>Wisconsin</td>\n",
       "      <td>75</td>\n",
       "      <td>10/23/2017</td>\n",
       "      <td>2</td>\n",
       "      <td>married</td>\n",
       "      <td>80939</td>\n",
       "      <td>9.25</td>\n",
       "      <td>Low spender</td>\n",
       "      <td>Midwest</td>\n",
       "      <td>Normal activity</td>\n",
       "      <td>Wise ones 61-81</td>\n",
       "    </tr>\n",
       "  </tbody>\n",
       "</table>\n",
       "</div>"
      ],
      "text/plain": [
       "   order_id user_id  order_number  orders_day_of_week  order_hour_of_day  \\\n",
       "0      7447   76142            56                   5                 11   \n",
       "1      7447   76142            56                   5                 11   \n",
       "2      7447   76142            56                   5                 11   \n",
       "3      7447   76142            56                   5                 11   \n",
       "4      7447   76142            56                   5                 11   \n",
       "\n",
       "   days_from_last_order  first_order  product_id  add_to_cart_order  \\\n",
       "0                   4.0        False       38526                  1   \n",
       "1                   4.0        False       39747                  2   \n",
       "2                   4.0        False       27086                  3   \n",
       "3                   4.0        False       47310                  4   \n",
       "4                   4.0        False       25577                  5   \n",
       "\n",
       "   reordered _merge                                       product_name  \\\n",
       "0          1   both                       Garlic Bread With Mozzarella   \n",
       "1          0   both                     Mixed Berry English Tea Scones   \n",
       "2          1   both                                        Half & Half   \n",
       "3          0   both  Shells & White Cheddar Mac & Cheese Family Siz...   \n",
       "4          0   both           Organic Bunny Pasta & Chicken Broth Soup   \n",
       "\n",
       "   aisle_id  department_id  prices        price_range    price_range_loc  \\\n",
       "0        13             20    11.0  Mid-range product  Mid-range product   \n",
       "1        93              3     6.6  Mid-range product  Mid-range product   \n",
       "2        53             16    11.4  Mid-range product  Mid-range product   \n",
       "3         4              9     2.4  Low-range product  Low-range product   \n",
       "4        69             15     9.1  Mid-range product  Mid-range product   \n",
       "\n",
       "      busiest_day Busiest_days busiest_period_of_day  max_order  \\\n",
       "0  Regularly busy  Normal_days       Most busy hours         56   \n",
       "1  Regularly busy  Normal_days       Most busy hours         56   \n",
       "2  Regularly busy  Normal_days       Most busy hours         56   \n",
       "3  Regularly busy  Normal_days       Most busy hours         56   \n",
       "4  Regularly busy  Normal_days       Most busy hours         56   \n",
       "\n",
       "     loyalty_flag  average_spending spending_flag  frequency_orders  \\\n",
       "0  Loyal customer               NaN           NaN               NaN   \n",
       "1  Loyal customer               NaN           NaN               NaN   \n",
       "2  Loyal customer               NaN           NaN               NaN   \n",
       "3  Loyal customer               NaN           NaN               NaN   \n",
       "4  Loyal customer               NaN           NaN               NaN   \n",
       "\n",
       "  frequency_flag  gender      state  age date_joined  dependants fam_status  \\\n",
       "0            NaN  Female  Wisconsin   75  10/23/2017           2    married   \n",
       "1            NaN  Female  Wisconsin   75  10/23/2017           2    married   \n",
       "2            NaN  Female  Wisconsin   75  10/23/2017           2    married   \n",
       "3            NaN  Female  Wisconsin   75  10/23/2017           2    married   \n",
       "4            NaN  Female  Wisconsin   75  10/23/2017           2    married   \n",
       "\n",
       "   income  avg_order_cost_by_cust spender_flag   region    activity_flag  \\\n",
       "0   80939                    9.25  Low spender  Midwest  Normal activity   \n",
       "1   80939                    9.25  Low spender  Midwest  Normal activity   \n",
       "2   80939                    9.25  Low spender  Midwest  Normal activity   \n",
       "3   80939                    9.25  Low spender  Midwest  Normal activity   \n",
       "4   80939                    9.25  Low spender  Midwest  Normal activity   \n",
       "\n",
       "         Age group  \n",
       "0  Wise ones 61-81  \n",
       "1  Wise ones 61-81  \n",
       "2  Wise ones 61-81  \n",
       "3  Wise ones 61-81  \n",
       "4  Wise ones 61-81  "
      ]
     },
     "execution_count": 28,
     "metadata": {},
     "output_type": "execute_result"
    }
   ],
   "source": [
    "instacart.head()"
   ]
  },
  {
   "cell_type": "code",
   "execution_count": 29,
   "id": "ef81d5de",
   "metadata": {},
   "outputs": [],
   "source": [
    "# Let's create income ranges\n",
    "\n",
    "instacart.loc[(instacart['income'] < 50000), 'Income group'] = 'Lower class'\n",
    "instacart.loc[(instacart['income'] >= 50000) & (instacart['income'] < 99000), 'Income group'] = 'Medium class'\n",
    "instacart.loc[(instacart['income'] >= 99000) & (instacart['income'] <= 160000), 'Income group'] = 'Upper class'\n",
    "instacart.loc[(instacart['income'] > 160000), 'Income group'] = 'Richionaires'"
   ]
  },
  {
   "cell_type": "code",
   "execution_count": 30,
   "id": "5cb2f881",
   "metadata": {},
   "outputs": [
    {
     "data": {
      "text/plain": [
       "Upper class     442\n",
       "Medium class    355\n",
       "Lower class     111\n",
       "Richionaires     79\n",
       "Name: Income group, dtype: int64"
      ]
     },
     "execution_count": 30,
     "metadata": {},
     "output_type": "execute_result"
    }
   ],
   "source": [
    "# Let's check the count \n",
    "\n",
    "instacart ['Income group'].value_counts()"
   ]
  },
  {
   "cell_type": "code",
   "execution_count": 31,
   "id": "b4623d1a",
   "metadata": {},
   "outputs": [],
   "source": [
    "# Let's create categories for the number of dependants.\n",
    "\n",
    "instacart.loc[(instacart['dependants'] <= 0), 'Parental group'] = 'No commits'\n",
    "instacart.loc[(instacart['dependants'] > 0) & (instacart['dependants'] <= 1), 'Parental group'] = 'Spoilers'\n",
    "instacart.loc[(instacart['dependants'] > 1), 'Parental group'] = 'Busy parents'"
   ]
  },
  {
   "cell_type": "code",
   "execution_count": 32,
   "id": "7b9508d5",
   "metadata": {},
   "outputs": [
    {
     "data": {
      "text/plain": [
       "married                             714\n",
       "single                              182\n",
       "divorced/widowed                     66\n",
       "living with parents and siblings     25\n",
       "Name: fam_status, dtype: int64"
      ]
     },
     "execution_count": 32,
     "metadata": {},
     "output_type": "execute_result"
    }
   ],
   "source": [
    "# Let's check also the count of the family status\n",
    "\n",
    "instacart ['fam_status'].value_counts()"
   ]
  },
  {
   "cell_type": "code",
   "execution_count": 33,
   "id": "37389666",
   "metadata": {},
   "outputs": [],
   "source": [
    "# Let's also create a column for the days of the week\n",
    "\n",
    "instacart.loc[instacart['orders_day_of_week'] == 0, 'Week_day'] = 'Saturday'\n",
    "instacart.loc[instacart['orders_day_of_week'] == 1, 'Week_day'] = 'Sunday'\n",
    "instacart.loc[instacart['orders_day_of_week'] == 2, 'Week_day'] = 'Monday'\n",
    "instacart.loc[instacart['orders_day_of_week'] == 3, 'Week_day'] = 'Tuesday'\n",
    "instacart.loc[instacart['orders_day_of_week'] == 4, 'Week_day'] = 'Wednesday'\n",
    "instacart.loc[instacart['orders_day_of_week'] == 5, 'Week_day'] = 'Thursday'\n",
    "instacart.loc[instacart['orders_day_of_week'] == 6, 'Week_day'] = 'Friday'"
   ]
  },
  {
   "cell_type": "code",
   "execution_count": 34,
   "id": "59f71941",
   "metadata": {},
   "outputs": [
    {
     "data": {
      "text/plain": [
       "7       6\n",
       "8      77\n",
       "9      73\n",
       "10    112\n",
       "11    190\n",
       "12    119\n",
       "13    100\n",
       "14     67\n",
       "15     12\n",
       "16     46\n",
       "17     30\n",
       "18     78\n",
       "19     37\n",
       "20      5\n",
       "21     23\n",
       "23     12\n",
       "Name: order_hour_of_day, dtype: int64"
      ]
     },
     "execution_count": 34,
     "metadata": {},
     "output_type": "execute_result"
    }
   ],
   "source": [
    "# Lastly, let's create a profile for the hours of shopping. First let's check the range\n",
    "\n",
    "instacart['order_hour_of_day'].value_counts().sort_index()"
   ]
  },
  {
   "cell_type": "markdown",
   "id": "29f6fb4b",
   "metadata": {},
   "source": [
    "In our sample we only have buyers from 7 am to 11 pm. let's create different ranges of buyers"
   ]
  },
  {
   "cell_type": "code",
   "execution_count": 35,
   "id": "eb2480c6",
   "metadata": {},
   "outputs": [],
   "source": [
    "# Let's divide the shopping time in 3 profiles \n",
    "\n",
    "instacart.loc[(instacart['order_hour_of_day'] >= 7) & (instacart['order_hour_of_day'] < 11), 'Shopping time'] = 'Early birds'\n",
    "instacart.loc[(instacart['order_hour_of_day'] >= 11) & (instacart['order_hour_of_day'] < 19), 'Shopping time'] = 'Day shoppers'\n",
    "instacart.loc[(instacart['order_hour_of_day'] >= 19), 'Shopping time'] = 'Late buyers'"
   ]
  },
  {
   "cell_type": "code",
   "execution_count": 36,
   "id": "a5c3ae02",
   "metadata": {},
   "outputs": [
    {
     "data": {
      "text/plain": [
       "Day shoppers    642\n",
       "Early birds     268\n",
       "Late buyers      77\n",
       "Name: Shopping time, dtype: int64"
      ]
     },
     "execution_count": 36,
     "metadata": {},
     "output_type": "execute_result"
    }
   ],
   "source": [
    "# Let's check the count\n",
    "\n",
    "instacart ['Shopping time'].value_counts()"
   ]
  },
  {
   "cell_type": "markdown",
   "id": "20e2f1c8",
   "metadata": {},
   "source": [
    "## 6. Profile visualization"
   ]
  },
  {
   "cell_type": "markdown",
   "id": "40ebdd18",
   "metadata": {},
   "source": [
    "### 6.1. Age groups"
   ]
  },
  {
   "cell_type": "code",
   "execution_count": 37,
   "id": "3aa15888",
   "metadata": {},
   "outputs": [
    {
     "name": "stdout",
     "output_type": "stream",
     "text": [
      "['10171' '102724' '103299' '103690' '107813' '109472' '109763' '111000'\n",
      " '114821' '115074' '115371' '115553' '115862' '116331' '116677' '117565'\n",
      " '118936' '119091' '120327' '121878' '124411' '127244' '127731' '128405'\n",
      " '128887' '129196' '13038' '131058' '131699' '132067' '135347' '136066'\n",
      " '137295' '153706' '154673' '155252' '155271' '157072' '160561' '163105'\n",
      " '168208' '169586' '171241' '173731' '175765' '179406' '183299' '185023'\n",
      " '187757' '189009' '189116' '191465' '192596' '197422' '200731' '203194'\n",
      " '205084' '205568' '206104' '24728' '25816' '27623' '28537' '31582' '3357'\n",
      " '3626' '39017' '39929' '41698' '422' '47715' '47879' '47892' '49780'\n",
      " '54263' '54711' '55806' '56916' '57633' '58662' '61924' '62056' '63975'\n",
      " '76106' '76142' '82159' '86285' '86344' '89166' '89672' '90250' '9170'\n",
      " '92461' '92796' '92843' '93750' '95845']\n"
     ]
    }
   ],
   "source": [
    "# Count number of unique users\n",
    "\n",
    "userlist = instacart['user_id'].unique()\n",
    "userlist.sort()\n",
    "print(userlist)"
   ]
  },
  {
   "cell_type": "code",
   "execution_count": 38,
   "id": "a862ac77",
   "metadata": {},
   "outputs": [
    {
     "data": {
      "text/plain": [
       "Age group\n",
       "Busy workers 25-40    25\n",
       "New moderns 41-60     28\n",
       "Wise ones 61-81       31\n",
       "Youngsters 18-24      13\n",
       "Name: user_id, dtype: int64"
      ]
     },
     "execution_count": 38,
     "metadata": {},
     "output_type": "execute_result"
    }
   ],
   "source": [
    "# Count number of unique users by Age group\n",
    "\n",
    "instacart.groupby('Age group')['user_id'].nunique()"
   ]
  },
  {
   "cell_type": "code",
   "execution_count": 39,
   "id": "aa43fecc",
   "metadata": {},
   "outputs": [
    {
     "data": {
      "image/png": "[encoded data removed]",
      "text/plain": [
       "<Figure size 432x288 with 1 Axes>"
      ]
     },
     "metadata": {
      "needs_background": "light"
     },
     "output_type": "display_data"
    }
   ],
   "source": [
    "# Graph number of unique users by Age group\n",
    "\n",
    "Age_bar_chart = instacart['Age group'].value_counts().plot.bar()\n"
   ]
  },
  {
   "cell_type": "code",
   "execution_count": 42,
   "id": "e8986550",
   "metadata": {},
   "outputs": [],
   "source": [
    "# Let's save it to our visualizations\n",
    "\n",
    "Age_bar_chart.figure.savefig(os.path.join(path, '4. Analysis','4.1. Visualizations', 'Age_group_bar.png'))"
   ]
  },
  {
   "cell_type": "code",
   "execution_count": 43,
   "id": "66bd76fe",
   "metadata": {},
   "outputs": [
    {
     "data": {
      "image/png": "[encoded data removed]",
      "text/plain": [
       "<Figure size 432x288 with 1 Axes>"
      ]
     },
     "metadata": {
      "needs_background": "light"
     },
     "output_type": "display_data"
    }
   ],
   "source": [
    "# Let's compare the age with the price paid\n",
    "\n",
    "age_price_line = sns.lineplot(data = instacart, x = 'age',y = 'prices')"
   ]
  },
  {
   "cell_type": "code",
   "execution_count": 44,
   "id": "f70babae",
   "metadata": {},
   "outputs": [],
   "source": [
    "# Let's save it to our visualizations\n",
    "\n",
    "age_price_line.figure.savefig(os.path.join(path, '4. Analysis','4.1. Visualizations', 'Age_price_line.png'))"
   ]
  },
  {
   "cell_type": "markdown",
   "id": "23f4d3e4",
   "metadata": {},
   "source": [
    "### 6.2. Income groups"
   ]
  },
  {
   "cell_type": "code",
   "execution_count": 40,
   "id": "3c7155c6",
   "metadata": {},
   "outputs": [
    {
     "data": {
      "text/plain": [
       "Income group\n",
       "Lower class     18\n",
       "Medium class    36\n",
       "Richionaires     8\n",
       "Upper class     35\n",
       "Name: user_id, dtype: int64"
      ]
     },
     "execution_count": 40,
     "metadata": {},
     "output_type": "execute_result"
    }
   ],
   "source": [
    "# TO get a count of the number of unique users by Income group\n",
    "\n",
    "instacart.groupby('Income group')['user_id'].nunique()"
   ]
  },
  {
   "cell_type": "code",
   "execution_count": 41,
   "id": "e94352ff",
   "metadata": {},
   "outputs": [
    {
     "data": {
      "text/plain": [
       "<matplotlib.legend.Legend at 0x2623dc42af0>"
      ]
     },
     "execution_count": 41,
     "metadata": {},
     "output_type": "execute_result"
    },
    {
     "data": {
      "image/png": "[encoded data removed]",
      "text/plain": [
       "<Figure size 432x288 with 1 Axes>"
      ]
     },
     "metadata": {},
     "output_type": "display_data"
    }
   ],
   "source": [
    "# Let's create a pie chart for the income\n",
    "\n",
    "income_pie_chart = instacart.groupby(['Income group']).sum().plot(kind='pie', y = 'income', startangle=90, autopct='%1.0f%%')\n",
    "plt.legend('')\n"
   ]
  },
  {
   "cell_type": "code",
   "execution_count": 89,
   "id": "bbf2d07f",
   "metadata": {},
   "outputs": [],
   "source": [
    "# To save it\n",
    "\n",
    "income_pie_chart.figure.savefig(os.path.join(path, '4. Analysis','4.1. Visualizations', 'Income_pie.png'))"
   ]
  },
  {
   "cell_type": "code",
   "execution_count": 91,
   "id": "9c07396f",
   "metadata": {},
   "outputs": [
    {
     "data": {
      "image/png": "[encoded data removed]",
      "text/plain": [
       "<Figure size 432x288 with 1 Axes>"
      ]
     },
     "metadata": {
      "needs_background": "light"
     },
     "output_type": "display_data"
    }
   ],
   "source": [
    "# Let's create a bar chart for the income groups\n",
    "\n",
    "income_bar_chart = instacart['Income group'].value_counts().plot.bar()\n",
    "\n",
    "income_bar_chart.figure.savefig(os.path.join(path, '4. Analysis','4.1. Visualizations', 'Income_bar.png'))"
   ]
  },
  {
   "cell_type": "markdown",
   "id": "4e4d4da4",
   "metadata": {},
   "source": [
    "### 6.3. Parental groups"
   ]
  },
  {
   "cell_type": "code",
   "execution_count": 42,
   "id": "ae7f9bf5",
   "metadata": {},
   "outputs": [
    {
     "data": {
      "image/png": "[encoded data removed]",
      "text/plain": [
       "<Figure size 432x288 with 1 Axes>"
      ]
     },
     "metadata": {
      "needs_background": "light"
     },
     "output_type": "display_data"
    }
   ],
   "source": [
    "# To create the family status bar chart and save it\n",
    "\n",
    "fam_status_bar = instacart.groupby('fam_status')['user_id'].nunique().sort_values(ascending=False).plot.bar()\n",
    "\n",
    "fam_status_bar.figure.savefig(os.path.join(path, '4. Analysis','4.1. Visualizations', 'Family_status_bar_desc.png'))"
   ]
  },
  {
   "cell_type": "markdown",
   "id": "77d11b42",
   "metadata": {},
   "source": [
    "Most of instacart customers are married, hopefully happily!"
   ]
  },
  {
   "cell_type": "markdown",
   "id": "55c9a59b",
   "metadata": {},
   "source": [
    "### 6.4. Departments\n"
   ]
  },
  {
   "cell_type": "code",
   "execution_count": 43,
   "id": "7e935e2e",
   "metadata": {},
   "outputs": [
    {
     "data": {
      "text/html": [
       "<div>\n",
       "<style scoped>\n",
       "    .dataframe tbody tr th:only-of-type {\n",
       "        vertical-align: middle;\n",
       "    }\n",
       "\n",
       "    .dataframe tbody tr th {\n",
       "        vertical-align: top;\n",
       "    }\n",
       "\n",
       "    .dataframe thead th {\n",
       "        text-align: right;\n",
       "    }\n",
       "</style>\n",
       "<table border=\"1\" class=\"dataframe\">\n",
       "  <thead>\n",
       "    <tr style=\"text-align: right;\">\n",
       "      <th>department_id</th>\n",
       "      <th>department</th>\n",
       "    </tr>\n",
       "  </thead>\n",
       "  <tbody>\n",
       "    <tr>\n",
       "      <th>1</th>\n",
       "      <td>frozen</td>\n",
       "    </tr>\n",
       "    <tr>\n",
       "      <th>2</th>\n",
       "      <td>other</td>\n",
       "    </tr>\n",
       "    <tr>\n",
       "      <th>3</th>\n",
       "      <td>bakery</td>\n",
       "    </tr>\n",
       "    <tr>\n",
       "      <th>4</th>\n",
       "      <td>produce</td>\n",
       "    </tr>\n",
       "    <tr>\n",
       "      <th>5</th>\n",
       "      <td>alcohol</td>\n",
       "    </tr>\n",
       "    <tr>\n",
       "      <th>6</th>\n",
       "      <td>international</td>\n",
       "    </tr>\n",
       "    <tr>\n",
       "      <th>7</th>\n",
       "      <td>beverages</td>\n",
       "    </tr>\n",
       "    <tr>\n",
       "      <th>8</th>\n",
       "      <td>pets</td>\n",
       "    </tr>\n",
       "    <tr>\n",
       "      <th>9</th>\n",
       "      <td>dry goods pasta</td>\n",
       "    </tr>\n",
       "    <tr>\n",
       "      <th>10</th>\n",
       "      <td>bulk</td>\n",
       "    </tr>\n",
       "    <tr>\n",
       "      <th>11</th>\n",
       "      <td>personal care</td>\n",
       "    </tr>\n",
       "    <tr>\n",
       "      <th>12</th>\n",
       "      <td>meat seafood</td>\n",
       "    </tr>\n",
       "    <tr>\n",
       "      <th>13</th>\n",
       "      <td>pantry</td>\n",
       "    </tr>\n",
       "    <tr>\n",
       "      <th>14</th>\n",
       "      <td>breakfast</td>\n",
       "    </tr>\n",
       "    <tr>\n",
       "      <th>15</th>\n",
       "      <td>canned goods</td>\n",
       "    </tr>\n",
       "    <tr>\n",
       "      <th>16</th>\n",
       "      <td>dairy eggs</td>\n",
       "    </tr>\n",
       "    <tr>\n",
       "      <th>17</th>\n",
       "      <td>household</td>\n",
       "    </tr>\n",
       "    <tr>\n",
       "      <th>18</th>\n",
       "      <td>babies</td>\n",
       "    </tr>\n",
       "    <tr>\n",
       "      <th>19</th>\n",
       "      <td>snacks</td>\n",
       "    </tr>\n",
       "    <tr>\n",
       "      <th>20</th>\n",
       "      <td>deli</td>\n",
       "    </tr>\n",
       "    <tr>\n",
       "      <th>21</th>\n",
       "      <td>missing</td>\n",
       "    </tr>\n",
       "  </tbody>\n",
       "</table>\n",
       "</div>"
      ],
      "text/plain": [
       "department_id       department\n",
       "1                       frozen\n",
       "2                        other\n",
       "3                       bakery\n",
       "4                      produce\n",
       "5                      alcohol\n",
       "6                international\n",
       "7                    beverages\n",
       "8                         pets\n",
       "9              dry goods pasta\n",
       "10                        bulk\n",
       "11               personal care\n",
       "12                meat seafood\n",
       "13                      pantry\n",
       "14                   breakfast\n",
       "15                canned goods\n",
       "16                  dairy eggs\n",
       "17                   household\n",
       "18                      babies\n",
       "19                      snacks\n",
       "20                        deli\n",
       "21                     missing"
      ]
     },
     "execution_count": 43,
     "metadata": {},
     "output_type": "execute_result"
    }
   ],
   "source": [
    "departments"
   ]
  },
  {
   "cell_type": "code",
   "execution_count": 44,
   "id": "13c94dad",
   "metadata": {},
   "outputs": [],
   "source": [
    "# To create a new column for the department names \n",
    "\n",
    "instacart.loc[instacart['department_id'] == 1, 'department_name'] = 'frozen'\n",
    "instacart.loc[instacart['department_id'] == 2, 'department_name'] = 'other'\n",
    "instacart.loc[instacart['department_id'] == 3, 'department_name'] = 'bakery'\n",
    "instacart.loc[instacart['department_id'] == 4, 'department_name'] = 'produce'\n",
    "instacart.loc[instacart['department_id'] == 5, 'department_name'] = 'alcohol'\n",
    "instacart.loc[instacart['department_id'] == 6, 'department_name'] = 'international'\n",
    "instacart.loc[instacart['department_id'] == 7, 'department_name'] = 'beverages'\n",
    "instacart.loc[instacart['department_id'] == 8, 'department_name'] = 'pets'\n",
    "instacart.loc[instacart['department_id'] == 9, 'department_name'] = 'dry goods pasta'\n",
    "instacart.loc[instacart['department_id'] == 10, 'department_name'] = 'bulk'\n",
    "instacart.loc[instacart['department_id'] == 11, 'department_name'] = 'personal care'\n",
    "instacart.loc[instacart['department_id'] == 12, 'department_name'] = 'meat seafood'\n",
    "instacart.loc[instacart['department_id'] == 13, 'department_name'] = 'pantry'\n",
    "instacart.loc[instacart['department_id'] == 14, 'department_name'] = 'breakfast'\n",
    "instacart.loc[instacart['department_id'] == 15, 'department_name'] = 'canned goods'\n",
    "instacart.loc[instacart['department_id'] == 16, 'department_name'] = 'dairy eggs'\n",
    "instacart.loc[instacart['department_id'] == 17, 'department_name'] = 'households'\n",
    "instacart.loc[instacart['department_id'] == 18, 'department_name'] = 'babies'\n",
    "instacart.loc[instacart['department_id'] == 19, 'department_name'] = 'snacks'\n",
    "instacart.loc[instacart['department_id'] == 20, 'department_name'] = 'deli'\n",
    "instacart.loc[instacart['department_id'] == 21, 'department_name'] = 'missing'"
   ]
  },
  {
   "cell_type": "code",
   "execution_count": 45,
   "id": "6dadef54",
   "metadata": {},
   "outputs": [
    {
     "data": {
      "text/plain": [
       "department_name\n",
       "alcohol             2\n",
       "babies             10\n",
       "bakery             25\n",
       "beverages          49\n",
       "breakfast          18\n",
       "canned goods       21\n",
       "dairy eggs         67\n",
       "deli               24\n",
       "dry goods pasta    13\n",
       "frozen             41\n",
       "households         20\n",
       "international      10\n",
       "meat seafood       18\n",
       "missing             2\n",
       "pantry             35\n",
       "personal care       8\n",
       "pets                4\n",
       "produce            68\n",
       "snacks             46\n",
       "Name: user_id, dtype: int64"
      ]
     },
     "execution_count": 45,
     "metadata": {},
     "output_type": "execute_result"
    }
   ],
   "source": [
    "# To check unique values\n",
    "\n",
    "instacart.groupby('department_name')['user_id'].nunique()"
   ]
  },
  {
   "cell_type": "code",
   "execution_count": 46,
   "id": "d119453e",
   "metadata": {},
   "outputs": [
    {
     "data": {
      "text/plain": [
       "produce            267\n",
       "dairy eggs         172\n",
       "snacks              92\n",
       "beverages           84\n",
       "frozen              82\n",
       "pantry              50\n",
       "canned goods        36\n",
       "bakery              36\n",
       "deli                31\n",
       "households          25\n",
       "breakfast           23\n",
       "meat seafood        22\n",
       "babies              20\n",
       "dry goods pasta     17\n",
       "personal care       12\n",
       "international       10\n",
       "pets                 4\n",
       "alcohol              2\n",
       "missing              2\n",
       "Name: department_name, dtype: int64"
      ]
     },
     "execution_count": 46,
     "metadata": {},
     "output_type": "execute_result"
    }
   ],
   "source": [
    "# To check actual counts of sales\n",
    "\n",
    "instacart['department_name'].value_counts()"
   ]
  },
  {
   "cell_type": "code",
   "execution_count": 101,
   "id": "d410d298",
   "metadata": {},
   "outputs": [
    {
     "data": {
      "image/png": "[encoded data removed]",
      "text/plain": [
       "<Figure size 432x288 with 1 Axes>"
      ]
     },
     "metadata": {
      "needs_background": "light"
     },
     "output_type": "display_data"
    },
    {
     "data": {
      "text/plain": [
       "<Figure size 1440x864 with 0 Axes>"
      ]
     },
     "metadata": {},
     "output_type": "display_data"
    }
   ],
   "source": [
    "# To create the departments bar chart and save it\n",
    "\n",
    "departments_bar = instacart['department_name'].value_counts().plot.bar(color = sns.color_palette('RdYlGn', 21))\n",
    "plt.figure(figsize = (20,12))\n",
    "\n",
    "departments_bar.figure.savefig(os.path.join(path, '4. Analysis','4.1. Visualizations', 'departments_sales_bar.png'))"
   ]
  },
  {
   "cell_type": "markdown",
   "id": "26bc37f8",
   "metadata": {},
   "source": [
    "The most popular departments are, in this order, produce, dairy eggs, snacks, beverages and frozen."
   ]
  },
  {
   "cell_type": "code",
   "execution_count": 51,
   "id": "c1fbf827",
   "metadata": {},
   "outputs": [
    {
     "data": {
      "text/plain": [
       "department_name\n",
       "alcohol              15.4\n",
       "babies              123.0\n",
       "bakery              321.8\n",
       "beverages           574.3\n",
       "breakfast           189.4\n",
       "canned goods        258.6\n",
       "dairy eggs         1441.4\n",
       "deli                272.8\n",
       "dry goods pasta     116.8\n",
       "frozen              618.6\n",
       "households          179.3\n",
       "international        72.4\n",
       "meat seafood        356.5\n",
       "missing              18.8\n",
       "pantry              424.0\n",
       "personal care        84.7\n",
       "pets                 31.5\n",
       "produce            2282.8\n",
       "snacks              380.3\n",
       "Name: prices, dtype: float64"
      ]
     },
     "execution_count": 51,
     "metadata": {},
     "output_type": "execute_result"
    }
   ],
   "source": [
    "# To check the sum of the sales by department\n",
    "\n",
    "instacart.groupby(['department_name'])['prices'].agg('sum')"
   ]
  },
  {
   "cell_type": "markdown",
   "id": "8cc0dd79",
   "metadata": {},
   "source": [
    "## 7. Aggregating for customer profiles"
   ]
  },
  {
   "cell_type": "code",
   "execution_count": 47,
   "id": "0cb33789",
   "metadata": {},
   "outputs": [
    {
     "data": {
      "text/plain": [
       "Age group\n",
       "Busy workers 25-40    1731.0\n",
       "New moderns 41-60     2123.6\n",
       "Wise ones 61-81       2916.9\n",
       "Youngsters 18-24       990.9\n",
       "Name: prices, dtype: float64"
      ]
     },
     "execution_count": 47,
     "metadata": {},
     "output_type": "execute_result"
    }
   ],
   "source": [
    "# Sum sales by Age group\n",
    "\n",
    "instacart.groupby(['Age group'])['prices'].agg('sum')"
   ]
  },
  {
   "cell_type": "code",
   "execution_count": 48,
   "id": "59c764f6",
   "metadata": {},
   "outputs": [
    {
     "data": {
      "text/plain": [
       "Income group\n",
       "Lower class      746.6\n",
       "Medium class    2852.5\n",
       "Richionaires     628.8\n",
       "Upper class     3534.5\n",
       "Name: prices, dtype: float64"
      ]
     },
     "execution_count": 48,
     "metadata": {},
     "output_type": "execute_result"
    }
   ],
   "source": [
    "# Sum sales by Income group\n",
    "\n",
    "instacart.groupby(['Income group'])['prices'].agg('sum')"
   ]
  },
  {
   "cell_type": "code",
   "execution_count": 49,
   "id": "3542a738",
   "metadata": {},
   "outputs": [
    {
     "data": {
      "text/plain": [
       "Week_day\n",
       "Friday        827.6\n",
       "Monday       1295.8\n",
       "Saturday     1793.2\n",
       "Sunday       1442.7\n",
       "Thursday      948.2\n",
       "Tuesday       752.3\n",
       "Wednesday     702.6\n",
       "Name: prices, dtype: float64"
      ]
     },
     "execution_count": 49,
     "metadata": {},
     "output_type": "execute_result"
    }
   ],
   "source": [
    "# Sum sales by week day\n",
    "\n",
    "instacart.groupby(['Week_day'])['prices'].agg('sum')"
   ]
  },
  {
   "cell_type": "code",
   "execution_count": 50,
   "id": "76ee7ab0",
   "metadata": {},
   "outputs": [
    {
     "data": {
      "text/plain": [
       "Shopping time\n",
       "Day shoppers    4999.5\n",
       "Early birds     2179.7\n",
       "Late buyers      583.2\n",
       "Name: prices, dtype: float64"
      ]
     },
     "execution_count": 50,
     "metadata": {},
     "output_type": "execute_result"
    }
   ],
   "source": [
    "# Sum sales by shoppping time\n",
    "\n",
    "instacart.groupby(['Shopping time'])['prices'].agg('sum')"
   ]
  },
  {
   "cell_type": "code",
   "execution_count": 51,
   "id": "048cecf1",
   "metadata": {},
   "outputs": [
    {
     "data": {
      "text/plain": [
       "Parental group\n",
       "Busy parents    3983.0\n",
       "No commits      1973.0\n",
       "Spoilers        1806.4\n",
       "Name: prices, dtype: float64"
      ]
     },
     "execution_count": 51,
     "metadata": {},
     "output_type": "execute_result"
    }
   ],
   "source": [
    "# Sum sales by parental group\n",
    "\n",
    "instacart.groupby(['Parental group'])['prices'].agg('sum')"
   ]
  },
  {
   "cell_type": "code",
   "execution_count": 52,
   "id": "f50610ee",
   "metadata": {},
   "outputs": [
    {
     "data": {
      "text/html": [
       "<div>\n",
       "<style scoped>\n",
       "    .dataframe tbody tr th:only-of-type {\n",
       "        vertical-align: middle;\n",
       "    }\n",
       "\n",
       "    .dataframe tbody tr th {\n",
       "        vertical-align: top;\n",
       "    }\n",
       "\n",
       "    .dataframe thead th {\n",
       "        text-align: right;\n",
       "    }\n",
       "</style>\n",
       "<table border=\"1\" class=\"dataframe\">\n",
       "  <thead>\n",
       "    <tr style=\"text-align: right;\">\n",
       "      <th></th>\n",
       "      <th>order_id</th>\n",
       "      <th>user_id</th>\n",
       "      <th>order_number</th>\n",
       "      <th>orders_day_of_week</th>\n",
       "      <th>order_hour_of_day</th>\n",
       "      <th>days_from_last_order</th>\n",
       "      <th>first_order</th>\n",
       "      <th>product_id</th>\n",
       "      <th>add_to_cart_order</th>\n",
       "      <th>reordered</th>\n",
       "      <th>_merge</th>\n",
       "      <th>product_name</th>\n",
       "      <th>aisle_id</th>\n",
       "      <th>department_id</th>\n",
       "      <th>prices</th>\n",
       "      <th>price_range</th>\n",
       "      <th>price_range_loc</th>\n",
       "      <th>busiest_day</th>\n",
       "      <th>Busiest_days</th>\n",
       "      <th>busiest_period_of_day</th>\n",
       "      <th>max_order</th>\n",
       "      <th>loyalty_flag</th>\n",
       "      <th>average_spending</th>\n",
       "      <th>spending_flag</th>\n",
       "      <th>frequency_orders</th>\n",
       "      <th>frequency_flag</th>\n",
       "      <th>gender</th>\n",
       "      <th>state</th>\n",
       "      <th>age</th>\n",
       "      <th>date_joined</th>\n",
       "      <th>dependants</th>\n",
       "      <th>fam_status</th>\n",
       "      <th>income</th>\n",
       "      <th>avg_order_cost_by_cust</th>\n",
       "      <th>spender_flag</th>\n",
       "      <th>region</th>\n",
       "      <th>activity_flag</th>\n",
       "      <th>Age group</th>\n",
       "      <th>Income group</th>\n",
       "      <th>Parental group</th>\n",
       "      <th>Week_day</th>\n",
       "      <th>Shopping time</th>\n",
       "      <th>department_name</th>\n",
       "    </tr>\n",
       "  </thead>\n",
       "  <tbody>\n",
       "    <tr>\n",
       "      <th>0</th>\n",
       "      <td>7447</td>\n",
       "      <td>76142</td>\n",
       "      <td>56</td>\n",
       "      <td>5</td>\n",
       "      <td>11</td>\n",
       "      <td>4.0</td>\n",
       "      <td>False</td>\n",
       "      <td>38526</td>\n",
       "      <td>1</td>\n",
       "      <td>1</td>\n",
       "      <td>both</td>\n",
       "      <td>Garlic Bread With Mozzarella</td>\n",
       "      <td>13</td>\n",
       "      <td>20</td>\n",
       "      <td>11.0</td>\n",
       "      <td>Mid-range product</td>\n",
       "      <td>Mid-range product</td>\n",
       "      <td>Regularly busy</td>\n",
       "      <td>Normal_days</td>\n",
       "      <td>Most busy hours</td>\n",
       "      <td>56</td>\n",
       "      <td>Loyal customer</td>\n",
       "      <td>NaN</td>\n",
       "      <td>NaN</td>\n",
       "      <td>NaN</td>\n",
       "      <td>NaN</td>\n",
       "      <td>Female</td>\n",
       "      <td>Wisconsin</td>\n",
       "      <td>75</td>\n",
       "      <td>10/23/2017</td>\n",
       "      <td>2</td>\n",
       "      <td>married</td>\n",
       "      <td>80939</td>\n",
       "      <td>9.25</td>\n",
       "      <td>Low spender</td>\n",
       "      <td>Midwest</td>\n",
       "      <td>Normal activity</td>\n",
       "      <td>Wise ones 61-81</td>\n",
       "      <td>Medium class</td>\n",
       "      <td>Busy parents</td>\n",
       "      <td>Thursday</td>\n",
       "      <td>Day shoppers</td>\n",
       "      <td>deli</td>\n",
       "    </tr>\n",
       "    <tr>\n",
       "      <th>1</th>\n",
       "      <td>7447</td>\n",
       "      <td>76142</td>\n",
       "      <td>56</td>\n",
       "      <td>5</td>\n",
       "      <td>11</td>\n",
       "      <td>4.0</td>\n",
       "      <td>False</td>\n",
       "      <td>39747</td>\n",
       "      <td>2</td>\n",
       "      <td>0</td>\n",
       "      <td>both</td>\n",
       "      <td>Mixed Berry English Tea Scones</td>\n",
       "      <td>93</td>\n",
       "      <td>3</td>\n",
       "      <td>6.6</td>\n",
       "      <td>Mid-range product</td>\n",
       "      <td>Mid-range product</td>\n",
       "      <td>Regularly busy</td>\n",
       "      <td>Normal_days</td>\n",
       "      <td>Most busy hours</td>\n",
       "      <td>56</td>\n",
       "      <td>Loyal customer</td>\n",
       "      <td>NaN</td>\n",
       "      <td>NaN</td>\n",
       "      <td>NaN</td>\n",
       "      <td>NaN</td>\n",
       "      <td>Female</td>\n",
       "      <td>Wisconsin</td>\n",
       "      <td>75</td>\n",
       "      <td>10/23/2017</td>\n",
       "      <td>2</td>\n",
       "      <td>married</td>\n",
       "      <td>80939</td>\n",
       "      <td>9.25</td>\n",
       "      <td>Low spender</td>\n",
       "      <td>Midwest</td>\n",
       "      <td>Normal activity</td>\n",
       "      <td>Wise ones 61-81</td>\n",
       "      <td>Medium class</td>\n",
       "      <td>Busy parents</td>\n",
       "      <td>Thursday</td>\n",
       "      <td>Day shoppers</td>\n",
       "      <td>bakery</td>\n",
       "    </tr>\n",
       "    <tr>\n",
       "      <th>2</th>\n",
       "      <td>7447</td>\n",
       "      <td>76142</td>\n",
       "      <td>56</td>\n",
       "      <td>5</td>\n",
       "      <td>11</td>\n",
       "      <td>4.0</td>\n",
       "      <td>False</td>\n",
       "      <td>27086</td>\n",
       "      <td>3</td>\n",
       "      <td>1</td>\n",
       "      <td>both</td>\n",
       "      <td>Half &amp; Half</td>\n",
       "      <td>53</td>\n",
       "      <td>16</td>\n",
       "      <td>11.4</td>\n",
       "      <td>Mid-range product</td>\n",
       "      <td>Mid-range product</td>\n",
       "      <td>Regularly busy</td>\n",
       "      <td>Normal_days</td>\n",
       "      <td>Most busy hours</td>\n",
       "      <td>56</td>\n",
       "      <td>Loyal customer</td>\n",
       "      <td>NaN</td>\n",
       "      <td>NaN</td>\n",
       "      <td>NaN</td>\n",
       "      <td>NaN</td>\n",
       "      <td>Female</td>\n",
       "      <td>Wisconsin</td>\n",
       "      <td>75</td>\n",
       "      <td>10/23/2017</td>\n",
       "      <td>2</td>\n",
       "      <td>married</td>\n",
       "      <td>80939</td>\n",
       "      <td>9.25</td>\n",
       "      <td>Low spender</td>\n",
       "      <td>Midwest</td>\n",
       "      <td>Normal activity</td>\n",
       "      <td>Wise ones 61-81</td>\n",
       "      <td>Medium class</td>\n",
       "      <td>Busy parents</td>\n",
       "      <td>Thursday</td>\n",
       "      <td>Day shoppers</td>\n",
       "      <td>dairy eggs</td>\n",
       "    </tr>\n",
       "    <tr>\n",
       "      <th>3</th>\n",
       "      <td>7447</td>\n",
       "      <td>76142</td>\n",
       "      <td>56</td>\n",
       "      <td>5</td>\n",
       "      <td>11</td>\n",
       "      <td>4.0</td>\n",
       "      <td>False</td>\n",
       "      <td>47310</td>\n",
       "      <td>4</td>\n",
       "      <td>0</td>\n",
       "      <td>both</td>\n",
       "      <td>Shells &amp; White Cheddar Mac &amp; Cheese Family Siz...</td>\n",
       "      <td>4</td>\n",
       "      <td>9</td>\n",
       "      <td>2.4</td>\n",
       "      <td>Low-range product</td>\n",
       "      <td>Low-range product</td>\n",
       "      <td>Regularly busy</td>\n",
       "      <td>Normal_days</td>\n",
       "      <td>Most busy hours</td>\n",
       "      <td>56</td>\n",
       "      <td>Loyal customer</td>\n",
       "      <td>NaN</td>\n",
       "      <td>NaN</td>\n",
       "      <td>NaN</td>\n",
       "      <td>NaN</td>\n",
       "      <td>Female</td>\n",
       "      <td>Wisconsin</td>\n",
       "      <td>75</td>\n",
       "      <td>10/23/2017</td>\n",
       "      <td>2</td>\n",
       "      <td>married</td>\n",
       "      <td>80939</td>\n",
       "      <td>9.25</td>\n",
       "      <td>Low spender</td>\n",
       "      <td>Midwest</td>\n",
       "      <td>Normal activity</td>\n",
       "      <td>Wise ones 61-81</td>\n",
       "      <td>Medium class</td>\n",
       "      <td>Busy parents</td>\n",
       "      <td>Thursday</td>\n",
       "      <td>Day shoppers</td>\n",
       "      <td>dry goods pasta</td>\n",
       "    </tr>\n",
       "    <tr>\n",
       "      <th>4</th>\n",
       "      <td>7447</td>\n",
       "      <td>76142</td>\n",
       "      <td>56</td>\n",
       "      <td>5</td>\n",
       "      <td>11</td>\n",
       "      <td>4.0</td>\n",
       "      <td>False</td>\n",
       "      <td>25577</td>\n",
       "      <td>5</td>\n",
       "      <td>0</td>\n",
       "      <td>both</td>\n",
       "      <td>Organic Bunny Pasta &amp; Chicken Broth Soup</td>\n",
       "      <td>69</td>\n",
       "      <td>15</td>\n",
       "      <td>9.1</td>\n",
       "      <td>Mid-range product</td>\n",
       "      <td>Mid-range product</td>\n",
       "      <td>Regularly busy</td>\n",
       "      <td>Normal_days</td>\n",
       "      <td>Most busy hours</td>\n",
       "      <td>56</td>\n",
       "      <td>Loyal customer</td>\n",
       "      <td>NaN</td>\n",
       "      <td>NaN</td>\n",
       "      <td>NaN</td>\n",
       "      <td>NaN</td>\n",
       "      <td>Female</td>\n",
       "      <td>Wisconsin</td>\n",
       "      <td>75</td>\n",
       "      <td>10/23/2017</td>\n",
       "      <td>2</td>\n",
       "      <td>married</td>\n",
       "      <td>80939</td>\n",
       "      <td>9.25</td>\n",
       "      <td>Low spender</td>\n",
       "      <td>Midwest</td>\n",
       "      <td>Normal activity</td>\n",
       "      <td>Wise ones 61-81</td>\n",
       "      <td>Medium class</td>\n",
       "      <td>Busy parents</td>\n",
       "      <td>Thursday</td>\n",
       "      <td>Day shoppers</td>\n",
       "      <td>canned goods</td>\n",
       "    </tr>\n",
       "  </tbody>\n",
       "</table>\n",
       "</div>"
      ],
      "text/plain": [
       "   order_id user_id  order_number  orders_day_of_week  order_hour_of_day  \\\n",
       "0      7447   76142            56                   5                 11   \n",
       "1      7447   76142            56                   5                 11   \n",
       "2      7447   76142            56                   5                 11   \n",
       "3      7447   76142            56                   5                 11   \n",
       "4      7447   76142            56                   5                 11   \n",
       "\n",
       "   days_from_last_order  first_order  product_id  add_to_cart_order  \\\n",
       "0                   4.0        False       38526                  1   \n",
       "1                   4.0        False       39747                  2   \n",
       "2                   4.0        False       27086                  3   \n",
       "3                   4.0        False       47310                  4   \n",
       "4                   4.0        False       25577                  5   \n",
       "\n",
       "   reordered _merge                                       product_name  \\\n",
       "0          1   both                       Garlic Bread With Mozzarella   \n",
       "1          0   both                     Mixed Berry English Tea Scones   \n",
       "2          1   both                                        Half & Half   \n",
       "3          0   both  Shells & White Cheddar Mac & Cheese Family Siz...   \n",
       "4          0   both           Organic Bunny Pasta & Chicken Broth Soup   \n",
       "\n",
       "   aisle_id  department_id  prices        price_range    price_range_loc  \\\n",
       "0        13             20    11.0  Mid-range product  Mid-range product   \n",
       "1        93              3     6.6  Mid-range product  Mid-range product   \n",
       "2        53             16    11.4  Mid-range product  Mid-range product   \n",
       "3         4              9     2.4  Low-range product  Low-range product   \n",
       "4        69             15     9.1  Mid-range product  Mid-range product   \n",
       "\n",
       "      busiest_day Busiest_days busiest_period_of_day  max_order  \\\n",
       "0  Regularly busy  Normal_days       Most busy hours         56   \n",
       "1  Regularly busy  Normal_days       Most busy hours         56   \n",
       "2  Regularly busy  Normal_days       Most busy hours         56   \n",
       "3  Regularly busy  Normal_days       Most busy hours         56   \n",
       "4  Regularly busy  Normal_days       Most busy hours         56   \n",
       "\n",
       "     loyalty_flag  average_spending spending_flag  frequency_orders  \\\n",
       "0  Loyal customer               NaN           NaN               NaN   \n",
       "1  Loyal customer               NaN           NaN               NaN   \n",
       "2  Loyal customer               NaN           NaN               NaN   \n",
       "3  Loyal customer               NaN           NaN               NaN   \n",
       "4  Loyal customer               NaN           NaN               NaN   \n",
       "\n",
       "  frequency_flag  gender      state  age date_joined  dependants fam_status  \\\n",
       "0            NaN  Female  Wisconsin   75  10/23/2017           2    married   \n",
       "1            NaN  Female  Wisconsin   75  10/23/2017           2    married   \n",
       "2            NaN  Female  Wisconsin   75  10/23/2017           2    married   \n",
       "3            NaN  Female  Wisconsin   75  10/23/2017           2    married   \n",
       "4            NaN  Female  Wisconsin   75  10/23/2017           2    married   \n",
       "\n",
       "   income  avg_order_cost_by_cust spender_flag   region    activity_flag  \\\n",
       "0   80939                    9.25  Low spender  Midwest  Normal activity   \n",
       "1   80939                    9.25  Low spender  Midwest  Normal activity   \n",
       "2   80939                    9.25  Low spender  Midwest  Normal activity   \n",
       "3   80939                    9.25  Low spender  Midwest  Normal activity   \n",
       "4   80939                    9.25  Low spender  Midwest  Normal activity   \n",
       "\n",
       "         Age group  Income group Parental group  Week_day Shopping time  \\\n",
       "0  Wise ones 61-81  Medium class   Busy parents  Thursday  Day shoppers   \n",
       "1  Wise ones 61-81  Medium class   Busy parents  Thursday  Day shoppers   \n",
       "2  Wise ones 61-81  Medium class   Busy parents  Thursday  Day shoppers   \n",
       "3  Wise ones 61-81  Medium class   Busy parents  Thursday  Day shoppers   \n",
       "4  Wise ones 61-81  Medium class   Busy parents  Thursday  Day shoppers   \n",
       "\n",
       "   department_name  \n",
       "0             deli  \n",
       "1           bakery  \n",
       "2       dairy eggs  \n",
       "3  dry goods pasta  \n",
       "4     canned goods  "
      ]
     },
     "execution_count": 52,
     "metadata": {},
     "output_type": "execute_result"
    }
   ],
   "source": [
    "instacart.head()"
   ]
  },
  {
   "cell_type": "code",
   "execution_count": 60,
   "id": "152ce020",
   "metadata": {},
   "outputs": [],
   "source": [
    "# Create customer profiles\n",
    "\n",
    "instacart.loc[(instacart['fam_status'] == 'single') & (instacart['dependants'] == 0 ), 'Custom_profile'] = 'Single, no dependents'\n",
    "instacart.loc[(instacart['fam_status'] == 'single') & (instacart['dependants'] >=1 ), 'Custom_profile'] = 'Single, with dependents'\n",
    "\n",
    "instacart.loc[(instacart['fam_status'] == 'married') & (instacart['dependants'] >=1 ) & (instacart['income'] >= 0) & (instacart['income'] < 75000), 'Custom_profile'] = 'Married, middle-low class, with dep'\n",
    "instacart.loc[(instacart['fam_status'] == 'married') & (instacart['dependants'] >=1 ) & (instacart['income'] >= 75000) & (instacart['income'] < 150000), 'Custom_profile'] = 'Married, middle-high class, with dep'\n",
    "instacart.loc[(instacart['fam_status'] == 'married') & (instacart['dependants'] >=1 ) & (instacart['income'] > 150000), 'Custom_profile'] = 'Married, upper class, with dep'\n",
    "\n",
    "instacart.loc[(instacart['fam_status'] == 'married') & (instacart['dependants'] == 0 ) & (instacart['income'] >= 0) & (instacart['income'] < 75000), 'Custom_profile'] = 'Married, middle-low class, no dep'\n",
    "instacart.loc[(instacart['fam_status'] == 'married') & (instacart['dependants'] == 0 ) & (instacart['income'] >= 75000) & (instacart['income'] < 150000), 'Custom_profile'] = 'Married, middle-high class, no dep'\n",
    "instacart.loc[(instacart['fam_status'] == 'married') & (instacart['dependants'] == 0 ) & (instacart['income'] > 150000), 'Custom_profile'] = 'Married, upper class no dep'"
   ]
  },
  {
   "cell_type": "code",
   "execution_count": 61,
   "id": "11bf5794",
   "metadata": {},
   "outputs": [
    {
     "data": {
      "text/plain": [
       "Custom_profile\n",
       "Married, middle-high class, with dep    35\n",
       "Married, middle-low class, with dep     26\n",
       "Single, no dependents                   16\n",
       "Married, upper class, with dep           9\n",
       "Young parent                             3\n",
       "Name: user_id, dtype: int64"
      ]
     },
     "execution_count": 61,
     "metadata": {},
     "output_type": "execute_result"
    }
   ],
   "source": [
    "# Count number of unique users by Customer profile\n",
    "\n",
    "instacart.groupby('Custom_profile')['user_id'].nunique().sort_values(ascending=False)"
   ]
  },
  {
   "cell_type": "code",
   "execution_count": 62,
   "id": "5e5d9fc8",
   "metadata": {},
   "outputs": [
    {
     "data": {
      "image/png": "[encoded data removed]",
      "text/plain": [
       "<Figure size 432x288 with 1 Axes>"
      ]
     },
     "metadata": {
      "needs_background": "light"
     },
     "output_type": "display_data"
    }
   ],
   "source": [
    "# To create a bar chart and save it \n",
    "\n",
    "Custom_profile_bar = instacart.groupby('Custom_profile')['user_id'].nunique().sort_values(ascending=False).plot.bar()"
   ]
  },
  {
   "cell_type": "code",
   "execution_count": 63,
   "id": "9e228ccd",
   "metadata": {},
   "outputs": [],
   "source": [
    "# To save it\n",
    "\n",
    "Custom_profile_bar.figure.savefig(os.path.join(path, '4. Analysis','4.1. Visualizations', 'Custom_profile_bar.png'))"
   ]
  },
  {
   "cell_type": "code",
   "execution_count": 64,
   "id": "67673d9c",
   "metadata": {},
   "outputs": [
    {
     "data": {
      "text/plain": [
       "Custom_profile\n",
       "Married, middle-high class, with dep    3342.5\n",
       "Married, middle-low class, with dep     1355.7\n",
       "Married, upper class, with dep           853.9\n",
       "Single, no dependents                   1445.1\n",
       "Young parent                             237.3\n",
       "Name: prices, dtype: float64"
      ]
     },
     "execution_count": 64,
     "metadata": {},
     "output_type": "execute_result"
    }
   ],
   "source": [
    "# To sum the sales by customer profiles\n",
    "\n",
    "instacart.groupby(['Custom_profile'])['prices'].agg('sum')"
   ]
  },
  {
   "cell_type": "code",
   "execution_count": 65,
   "id": "a375c858",
   "metadata": {},
   "outputs": [
    {
     "data": {
      "image/png": "[encoded data removed]",
      "text/plain": [
       "<Figure size 432x288 with 1 Axes>"
      ]
     },
     "metadata": {
      "needs_background": "light"
     },
     "output_type": "display_data"
    }
   ],
   "source": [
    "# To create a bar chart about the aggregated sales and save it \n",
    "\n",
    "Custom_profile_sales_bar = round(instacart.groupby(['Custom_profile'])['prices'].agg('sum')/instacart.groupby('Custom_profile')['user_id'].nunique(),0).sort_values(ascending=False).plot.bar()\n",
    "\n",
    "Custom_profile_sales_bar.figure.savefig(os.path.join(path, '4. Analysis','4.1. Visualizations', 'Custom_profile_sales_bar.png'))"
   ]
  },
  {
   "cell_type": "code",
   "execution_count": 66,
   "id": "b390578d",
   "metadata": {},
   "outputs": [
    {
     "data": {
      "text/html": [
       "<div>\n",
       "<style scoped>\n",
       "    .dataframe tbody tr th:only-of-type {\n",
       "        vertical-align: middle;\n",
       "    }\n",
       "\n",
       "    .dataframe tbody tr th {\n",
       "        vertical-align: top;\n",
       "    }\n",
       "\n",
       "    .dataframe thead tr th {\n",
       "        text-align: left;\n",
       "    }\n",
       "\n",
       "    .dataframe thead tr:last-of-type th {\n",
       "        text-align: right;\n",
       "    }\n",
       "</style>\n",
       "<table border=\"1\" class=\"dataframe\">\n",
       "  <thead>\n",
       "    <tr>\n",
       "      <th></th>\n",
       "      <th colspan=\"3\" halign=\"left\">prices</th>\n",
       "    </tr>\n",
       "    <tr>\n",
       "      <th></th>\n",
       "      <th>mean</th>\n",
       "      <th>min</th>\n",
       "      <th>max</th>\n",
       "    </tr>\n",
       "    <tr>\n",
       "      <th>Custom_profile</th>\n",
       "      <th></th>\n",
       "      <th></th>\n",
       "      <th></th>\n",
       "    </tr>\n",
       "  </thead>\n",
       "  <tbody>\n",
       "    <tr>\n",
       "      <th>Married, middle-high class, with dep</th>\n",
       "      <td>7.939430</td>\n",
       "      <td>1.0</td>\n",
       "      <td>20.7</td>\n",
       "    </tr>\n",
       "    <tr>\n",
       "      <th>Married, middle-low class, with dep</th>\n",
       "      <td>7.060937</td>\n",
       "      <td>1.0</td>\n",
       "      <td>20.7</td>\n",
       "    </tr>\n",
       "    <tr>\n",
       "      <th>Married, upper class, with dep</th>\n",
       "      <td>8.454455</td>\n",
       "      <td>1.1</td>\n",
       "      <td>23.3</td>\n",
       "    </tr>\n",
       "    <tr>\n",
       "      <th>Single, no dependents</th>\n",
       "      <td>7.940110</td>\n",
       "      <td>1.0</td>\n",
       "      <td>21.1</td>\n",
       "    </tr>\n",
       "    <tr>\n",
       "      <th>Young parent</th>\n",
       "      <td>9.492000</td>\n",
       "      <td>1.5</td>\n",
       "      <td>24.1</td>\n",
       "    </tr>\n",
       "  </tbody>\n",
       "</table>\n",
       "</div>"
      ],
      "text/plain": [
       "                                        prices           \n",
       "                                          mean  min   max\n",
       "Custom_profile                                           \n",
       "Married, middle-high class, with dep  7.939430  1.0  20.7\n",
       "Married, middle-low class, with dep   7.060937  1.0  20.7\n",
       "Married, upper class, with dep        8.454455  1.1  23.3\n",
       "Single, no dependents                 7.940110  1.0  21.1\n",
       "Young parent                          9.492000  1.5  24.1"
      ]
     },
     "execution_count": 66,
     "metadata": {},
     "output_type": "execute_result"
    }
   ],
   "source": [
    "# Price analysis by customer profile\n",
    "\n",
    "instacart.groupby('Custom_profile').agg({'prices': ['mean', 'min', 'max']})"
   ]
  },
  {
   "cell_type": "code",
   "execution_count": 67,
   "id": "ef2f7ef7",
   "metadata": {},
   "outputs": [
    {
     "data": {
      "text/html": [
       "<div>\n",
       "<style scoped>\n",
       "    .dataframe tbody tr th:only-of-type {\n",
       "        vertical-align: middle;\n",
       "    }\n",
       "\n",
       "    .dataframe tbody tr th {\n",
       "        vertical-align: top;\n",
       "    }\n",
       "\n",
       "    .dataframe thead tr th {\n",
       "        text-align: left;\n",
       "    }\n",
       "\n",
       "    .dataframe thead tr:last-of-type th {\n",
       "        text-align: right;\n",
       "    }\n",
       "</style>\n",
       "<table border=\"1\" class=\"dataframe\">\n",
       "  <thead>\n",
       "    <tr>\n",
       "      <th></th>\n",
       "      <th colspan=\"3\" halign=\"left\">avg_order_cost_by_cust</th>\n",
       "    </tr>\n",
       "    <tr>\n",
       "      <th></th>\n",
       "      <th>mean</th>\n",
       "      <th>min</th>\n",
       "      <th>max</th>\n",
       "    </tr>\n",
       "    <tr>\n",
       "      <th>Custom_profile</th>\n",
       "      <th></th>\n",
       "      <th></th>\n",
       "      <th></th>\n",
       "    </tr>\n",
       "  </thead>\n",
       "  <tbody>\n",
       "    <tr>\n",
       "      <th>Married, middle-high class, with dep</th>\n",
       "      <td>7.939430</td>\n",
       "      <td>5.250000</td>\n",
       "      <td>12.6600</td>\n",
       "    </tr>\n",
       "    <tr>\n",
       "      <th>Married, middle-low class, with dep</th>\n",
       "      <td>7.060938</td>\n",
       "      <td>2.000000</td>\n",
       "      <td>13.1000</td>\n",
       "    </tr>\n",
       "    <tr>\n",
       "      <th>Married, upper class, with dep</th>\n",
       "      <td>8.454455</td>\n",
       "      <td>6.312500</td>\n",
       "      <td>10.5000</td>\n",
       "    </tr>\n",
       "    <tr>\n",
       "      <th>Single, no dependents</th>\n",
       "      <td>7.940110</td>\n",
       "      <td>5.300000</td>\n",
       "      <td>11.1000</td>\n",
       "    </tr>\n",
       "    <tr>\n",
       "      <th>Young parent</th>\n",
       "      <td>9.492000</td>\n",
       "      <td>9.146154</td>\n",
       "      <td>10.1875</td>\n",
       "    </tr>\n",
       "  </tbody>\n",
       "</table>\n",
       "</div>"
      ],
      "text/plain": [
       "                                     avg_order_cost_by_cust                   \n",
       "                                                       mean       min      max\n",
       "Custom_profile                                                                \n",
       "Married, middle-high class, with dep               7.939430  5.250000  12.6600\n",
       "Married, middle-low class, with dep                7.060938  2.000000  13.1000\n",
       "Married, upper class, with dep                     8.454455  6.312500  10.5000\n",
       "Single, no dependents                              7.940110  5.300000  11.1000\n",
       "Young parent                                       9.492000  9.146154  10.1875"
      ]
     },
     "execution_count": 67,
     "metadata": {},
     "output_type": "execute_result"
    }
   ],
   "source": [
    "# Frequency analysis by customer profile\n",
    "\n",
    "instacart.groupby('Custom_profile').agg({'avg_order_cost_by_cust': ['mean', 'min', 'max']})"
   ]
  },
  {
   "cell_type": "markdown",
   "id": "1435b065",
   "metadata": {},
   "source": [
    "## 8. Comparing customer profiles with regions and departments"
   ]
  },
  {
   "cell_type": "markdown",
   "id": "f9468895",
   "metadata": {},
   "source": [
    "### 8.1. Customer profiles vs Regions"
   ]
  },
  {
   "cell_type": "code",
   "execution_count": 68,
   "id": "7e2f1031",
   "metadata": {},
   "outputs": [
    {
     "name": "stdout",
     "output_type": "stream",
     "text": [
      "region                                Midwest  Northeast   South    West  \\\n",
      "Custom_profile                                                             \n",
      "Married, middle-high class, with dep    649.0      503.0  1488.0   702.0   \n",
      "Married, middle-low class, with dep     520.0      332.0   206.0   299.0   \n",
      "Married, upper class, with dep            NaN       61.0   552.0   241.0   \n",
      "Single, no dependents                   130.0      142.0   831.0   342.0   \n",
      "Young parent                              NaN        NaN   237.0     NaN   \n",
      "Total                                  1299.0     1038.0  3314.0  1583.0   \n",
      "\n",
      "region                                 Total  \n",
      "Custom_profile                                \n",
      "Married, middle-high class, with dep  3343.0  \n",
      "Married, middle-low class, with dep   1356.0  \n",
      "Married, upper class, with dep         854.0  \n",
      "Single, no dependents                 1445.0  \n",
      "Young parent                           237.0  \n",
      "Total                                 7234.0  \n"
     ]
    }
   ],
   "source": [
    "Custom_vs_regions = np.round(instacart.pivot_table(index='Custom_profile', columns='region', values='prices', aggfunc='sum',margins = True,margins_name = 'Total'),0)\n",
    "print(Custom_vs_regions)"
   ]
  },
  {
   "cell_type": "markdown",
   "id": "85b62cae",
   "metadata": {},
   "source": [
    "The common link between the different regions is that the customers that spend the most in every region have a profile of married adult of middle to high income, with dependants. Young parents seem to spend less on online groceries shopping."
   ]
  },
  {
   "cell_type": "markdown",
   "id": "a08b53cd",
   "metadata": {},
   "source": [
    "### 8.1. Customer profiles vs Departments"
   ]
  },
  {
   "cell_type": "code",
   "execution_count": 70,
   "id": "b0b89775",
   "metadata": {},
   "outputs": [
    {
     "name": "stdout",
     "output_type": "stream",
     "text": [
      "department_name                       alcohol  babies  bakery  beverages  \\\n",
      "Custom_profile                                                             \n",
      "Married, middle-high class, with dep      6.0    56.0   190.0      149.0   \n",
      "Married, middle-low class, with dep       NaN    25.0    35.0      158.0   \n",
      "Married, upper class, with dep            NaN    21.0     6.0      101.0   \n",
      "Single, no dependents                    10.0    20.0    26.0      153.0   \n",
      "Young parent                              NaN     NaN    53.0        NaN   \n",
      "Total                                    15.0   123.0   311.0      562.0   \n",
      "\n",
      "department_name                       breakfast  canned goods  dairy eggs  \\\n",
      "Custom_profile                                                              \n",
      "Married, middle-high class, with dep      131.0          82.0       657.0   \n",
      "Married, middle-low class, with dep        15.0          31.0       166.0   \n",
      "Married, upper class, with dep             13.0          25.0       186.0   \n",
      "Single, no dependents                      12.0         104.0       325.0   \n",
      "Young parent                               18.0           NaN        52.0   \n",
      "Total                                     189.0         243.0      1387.0   \n",
      "\n",
      "department_name                        deli  dry goods pasta  frozen  \\\n",
      "Custom_profile                                                         \n",
      "Married, middle-high class, with dep   75.0             76.0   342.0   \n",
      "Married, middle-low class, with dep    93.0             21.0   135.0   \n",
      "Married, upper class, with dep         27.0              8.0     8.0   \n",
      "Single, no dependents                  61.0              NaN    63.0   \n",
      "Young parent                            8.0              9.0    10.0   \n",
      "Total                                 263.0            114.0   558.0   \n",
      "\n",
      "department_name                       households  international  meat seafood  \\\n",
      "Custom_profile                                                                  \n",
      "Married, middle-high class, with dep       110.0           19.0         123.0   \n",
      "Married, middle-low class, with dep         21.0           18.0          70.0   \n",
      "Married, upper class, with dep               4.0           10.0          44.0   \n",
      "Single, no dependents                       32.0            6.0          42.0   \n",
      "Young parent                                 NaN           13.0          24.0   \n",
      "Total                                      168.0           66.0         304.0   \n",
      "\n",
      "department_name                       missing  pantry  personal care  pets  \\\n",
      "Custom_profile                                                               \n",
      "Married, middle-high class, with dep     14.0   195.0           29.0  22.0   \n",
      "Married, middle-low class, with dep       NaN    76.0            NaN   NaN   \n",
      "Married, upper class, with dep            NaN    74.0            NaN   NaN   \n",
      "Single, no dependents                     5.0    52.0           38.0  10.0   \n",
      "Young parent                              NaN    12.0           13.0   NaN   \n",
      "Total                                    19.0   410.0           80.0  32.0   \n",
      "\n",
      "department_name                       produce  snacks   Total  \n",
      "Custom_profile                                                 \n",
      "Married, middle-high class, with dep    890.0   176.0  3343.0  \n",
      "Married, middle-low class, with dep     392.0   100.0  1356.0  \n",
      "Married, upper class, with dep          303.0    21.0   854.0  \n",
      "Single, no dependents                   423.0    64.0  1445.0  \n",
      "Young parent                             24.0     NaN   237.0  \n",
      "Total                                  2031.0   360.0  7234.0  \n"
     ]
    }
   ],
   "source": [
    "Custom_vs_dpmts = np.round(instacart.pivot_table(index='Custom_profile', columns='department_name', values='prices', aggfunc='sum',margins = True,margins_name = 'Total'),0)\n",
    "print(Custom_vs_dpmts)"
   ]
  },
  {
   "cell_type": "markdown",
   "id": "9e8b2a41",
   "metadata": {},
   "source": [
    "Respect the departments, we can see that certain goods are more likely to be shopped by higher class, like meat/seafood, dairy eggs or bakery, for example. Single with no dependants lead in the canned good shopping or beverages."
   ]
  },
  {
   "cell_type": "markdown",
   "id": "1f4af03b",
   "metadata": {},
   "source": [
    "## 9. Responding to the key questions"
   ]
  },
  {
   "cell_type": "markdown",
   "id": "5298dfb7",
   "metadata": {},
   "source": [
    "#### 9.1.The sales team needs to know what the busiest days of the week and hours of the day are (i.e., the days and times with the most orders) in order to schedule ads at times when there are fewer orders"
   ]
  },
  {
   "cell_type": "code",
   "execution_count": 71,
   "id": "4a627e64",
   "metadata": {},
   "outputs": [
    {
     "data": {
      "image/png": "[encoded data removed]",
      "text/plain": [
       "<Figure size 432x288 with 1 Axes>"
      ]
     },
     "metadata": {
      "needs_background": "light"
     },
     "output_type": "display_data"
    }
   ],
   "source": [
    "# We will show a bar chart with the busiest days of the week, and save it to visualizations\n",
    "\n",
    "busiest_days_bar = instacart['orders_day_of_week'].value_counts().sort_index().plot.bar()\n",
    "\n",
    "busiest_days_bar.figure.savefig(os.path.join(path, '4. Analysis','4.1. Visualizations', 'busiest_days_bar.png'))"
   ]
  },
  {
   "cell_type": "markdown",
   "id": "56a53afd",
   "metadata": {},
   "source": [
    "Saturday and Sunday are the busiest days of the week"
   ]
  },
  {
   "cell_type": "markdown",
   "id": "707da057",
   "metadata": {},
   "source": [
    "####  9.2. They also want to know whether there are particular times of the day when people spend the most money, as this might inform the type of products they advertise at these times.\n"
   ]
  },
  {
   "cell_type": "code",
   "execution_count": 72,
   "id": "34bc6b27",
   "metadata": {},
   "outputs": [
    {
     "data": {
      "image/png": "[encoded data removed]",
      "text/plain": [
       "<Figure size 432x288 with 1 Axes>"
      ]
     },
     "metadata": {
      "needs_background": "light"
     },
     "output_type": "display_data"
    }
   ],
   "source": [
    "# Let's make a bar chart for the hours of the day, and save it to visualizations\n",
    "\n",
    "busiest_hours_bar = instacart['order_hour_of_day'].value_counts().sort_index().plot.bar()\n",
    "\n",
    "busiest_hours_bar.figure.savefig(os.path.join(path, '4. Analysis','4.1. Visualizations', 'busiest_hours_bar.png'))"
   ]
  },
  {
   "cell_type": "markdown",
   "id": "e96d8a42",
   "metadata": {},
   "source": [
    "Between 10am and 1pm are the busiest hours, being 11 the busiest one."
   ]
  },
  {
   "cell_type": "markdown",
   "id": "79d19650",
   "metadata": {},
   "source": [
    "#### 9.3. Instacart has a lot of products with different price tags. Marketing and sales want to use simpler price range groupings to help direct their efforts."
   ]
  },
  {
   "cell_type": "code",
   "execution_count": 73,
   "id": "65507ff7",
   "metadata": {},
   "outputs": [
    {
     "data": {
      "image/png": "[encoded data removed]",
      "text/plain": [
       "<Figure size 432x288 with 1 Axes>"
      ]
     },
     "metadata": {},
     "output_type": "display_data"
    }
   ],
   "source": [
    "# Let's create a pie for the price ranges, and save it to visualizations\n",
    "\n",
    "price_range_prod_pie = instacart['price_range'].value_counts().sort_index().plot.pie(autopct='%1.1f%%')\n",
    "plt.ylabel('')\n",
    "\n",
    "price_range_prod_pie.figure.savefig(os.path.join(path, '4. Analysis','4.1. Visualizations', 'price_range_prod_pie.png'))"
   ]
  },
  {
   "cell_type": "markdown",
   "id": "5f768445",
   "metadata": {},
   "source": [
    "Products labels could have different colours depending on if they are classed as low, middle or high range price products."
   ]
  },
  {
   "cell_type": "markdown",
   "id": "0e801f9f",
   "metadata": {},
   "source": [
    "#### 9.4. Are there certain types of products that are more popular than others? The marketing and sales teams want to know which departments have the highest frequency of product orders"
   ]
  },
  {
   "cell_type": "code",
   "execution_count": 76,
   "id": "bcdcd891",
   "metadata": {},
   "outputs": [
    {
     "data": {
      "text/plain": [
       "<Figure size 1440x864 with 0 Axes>"
      ]
     },
     "execution_count": 76,
     "metadata": {},
     "output_type": "execute_result"
    },
    {
     "data": {
      "image/png": "[encoded data removed]",
      "text/plain": [
       "<Figure size 432x288 with 1 Axes>"
      ]
     },
     "metadata": {
      "needs_background": "light"
     },
     "output_type": "display_data"
    },
    {
     "data": {
      "text/plain": [
       "<Figure size 1440x864 with 0 Axes>"
      ]
     },
     "metadata": {},
     "output_type": "display_data"
    }
   ],
   "source": [
    "# Let's repeat the graph from a few step before\n",
    "\n",
    "departments_bar = instacart['department_name'].value_counts().plot.bar(color = sns.color_palette('RdYlGn', 21))\n",
    "plt.figure(figsize = (20,12))"
   ]
  },
  {
   "cell_type": "markdown",
   "id": "2162ebbc",
   "metadata": {},
   "source": [
    "The most popular departments are, in this order, produce, dairy eggs, snacks, beverages and frozen. These departments should receive less marketing efforts to try to impulse the rest of sales."
   ]
  },
  {
   "cell_type": "markdown",
   "id": "652ba9c7",
   "metadata": {},
   "source": [
    "#### 9.5. What’s the distribution among users in regards to their brand loyalty (i.e., how often do they return to Instacart)?"
   ]
  },
  {
   "cell_type": "code",
   "execution_count": 77,
   "id": "d198142d",
   "metadata": {},
   "outputs": [
    {
     "data": {
      "image/png": "[encoded data removed]",
      "text/plain": [
       "<Figure size 432x288 with 1 Axes>"
      ]
     },
     "metadata": {},
     "output_type": "display_data"
    }
   ],
   "source": [
    "# Let's create a pie for the loyalty flag, and save it to visualizations\n",
    "\n",
    "loyalty_pie = instacart['loyalty_flag'].value_counts().sort_index().plot.pie(autopct='%1.1f%%', colors = sns.color_palette('coolwarm', 3))\n",
    "plt.ylabel('')\n",
    "\n",
    "loyalty_pie.figure.savefig(os.path.join(path, '4. Analysis','4.1. Visualizations', 'loyalty_pie.png'))"
   ]
  },
  {
   "cell_type": "markdown",
   "id": "6e549a3f",
   "metadata": {},
   "source": [
    "Most of Instacart customers are new or regular customers. It would be worth it to create a system such as points and discounts to reward to those loyal customers."
   ]
  },
  {
   "cell_type": "markdown",
   "id": "ac564124",
   "metadata": {},
   "source": [
    "#### 9.6. Are there differences in ordering habits based on a customer’s loyalty status?"
   ]
  },
  {
   "cell_type": "code",
   "execution_count": 79,
   "id": "350fce1a",
   "metadata": {},
   "outputs": [
    {
     "name": "stdout",
     "output_type": "stream",
     "text": [
      "loyalty_flag       Loyal customer  New customer  Regular customer\n",
      "price_range                                                      \n",
      "High range                      1             3                 8\n",
      "Low-range product              16           147               149\n",
      "Mid-range product              48           307               308\n"
     ]
    }
   ],
   "source": [
    "# Let's compare the habits on price range purchases by loyalty\n",
    "\n",
    "crosstab_price_range_loyalty = pd.crosstab(instacart['price_range'], instacart['loyalty_flag'], dropna = False)\n",
    "print(crosstab_price_range_loyalty)"
   ]
  },
  {
   "cell_type": "markdown",
   "id": "560b277d",
   "metadata": {},
   "source": [
    "There is no apparent differences between new, regular and loyal customers in orders based on the price range purchased."
   ]
  },
  {
   "cell_type": "code",
   "execution_count": 82,
   "id": "bbefd7cc",
   "metadata": {},
   "outputs": [
    {
     "name": "stdout",
     "output_type": "stream",
     "text": [
      "loyalty_flag     Loyal customer  New customer  Regular customer\n",
      "department_name                                                \n",
      "alcohol                       0             0                 2\n",
      "babies                        1             1                18\n",
      "bakery                        2            20                14\n",
      "beverages                     3            41                40\n",
      "breakfast                     1            13                 9\n",
      "canned goods                  6            21                 9\n",
      "dairy eggs                   18            78                76\n",
      "deli                          1            22                 8\n",
      "dry goods pasta               2             6                 9\n",
      "frozen                        6            46                30\n",
      "households                    1            12                12\n",
      "international                 1             5                 4\n",
      "meat seafood                  2             8                12\n",
      "missing                       0             0                 2\n",
      "pantry                        1            25                24\n",
      "personal care                 1             5                 6\n",
      "pets                          0             1                 3\n",
      "produce                      15           108               144\n",
      "snacks                        4            45                43\n"
     ]
    }
   ],
   "source": [
    "# Let's compare the habits on price range purchases by loyalty\n",
    "\n",
    "crosstab_department_loyalty = pd.crosstab(instacart['department_name'], instacart['loyalty_flag'], dropna = False)\n",
    "print(crosstab_department_loyalty)"
   ]
  },
  {
   "cell_type": "markdown",
   "id": "f8c9fb62",
   "metadata": {},
   "source": [
    "#### 9.7. Are there differences in ordering habits based on a customer’s region?"
   ]
  },
  {
   "cell_type": "code",
   "execution_count": 83,
   "id": "a77f7c81",
   "metadata": {},
   "outputs": [
    {
     "name": "stdout",
     "output_type": "stream",
     "text": [
      "region           Midwest  Northeast  South  West\n",
      "department_name                                 \n",
      "alcohol                0          1      1     0\n",
      "babies                 0          3     13     4\n",
      "bakery                 4          4     19     9\n",
      "beverages             19         17     35    13\n",
      "breakfast              5          3     10     5\n",
      "canned goods          10          8     13     5\n",
      "dairy eggs            33         27     79    33\n",
      "deli                   8          5     14     4\n",
      "dry goods pasta        4          3      8     2\n",
      "frozen                14         21     28    19\n",
      "households             4          3     10     8\n",
      "international          2          3      3     2\n",
      "meat seafood           3          5     13     1\n",
      "missing                0          0      1     1\n",
      "pantry                11          7     26     6\n",
      "personal care          2          1      6     3\n",
      "pets                   1          0      2     1\n",
      "produce               45         39    117    66\n",
      "snacks                20         21     35    16\n"
     ]
    }
   ],
   "source": [
    "# Let's compare the habits on department purchases by region\n",
    "\n",
    "crosstab_dpmt_region = pd.crosstab(instacart['department_name'], instacart['region'], dropna = False)\n",
    "print(crosstab_dpmt_region)"
   ]
  },
  {
   "cell_type": "code",
   "execution_count": 89,
   "id": "9e627819",
   "metadata": {},
   "outputs": [
    {
     "data": {
      "image/png": "[encoded data removed]",
      "text/plain": [
       "<Figure size 432x288 with 1 Axes>"
      ]
     },
     "metadata": {
      "needs_background": "light"
     },
     "output_type": "display_data"
    }
   ],
   "source": [
    "# Let's create a bar chart for the department purchases by region\n",
    "\n",
    "dpmt_region_bar = crosstab_dpmt_region.plot(kind = 'bar', stacked = True)\n",
    "plt.tight_layout()\n",
    "\n",
    "dpmt_region_bar.figure.savefig(os.path.join(path, '4. Analysis','4.1. Visualizations', 'dpmt_region_bar.png'))"
   ]
  },
  {
   "cell_type": "markdown",
   "id": "a7b8d780",
   "metadata": {},
   "source": [
    "#### 9.8. Is there a connection between age and family status in terms of ordering habits?"
   ]
  },
  {
   "cell_type": "code",
   "execution_count": 90,
   "id": "130ad2a8",
   "metadata": {},
   "outputs": [
    {
     "name": "stdout",
     "output_type": "stream",
     "text": [
      "Age group                         Busy workers 25-40  New moderns 41-60  \\\n",
      "fam_status                                                                \n",
      "divorced/widowed                                   0                  0   \n",
      "living with parents and siblings                   0                  0   \n",
      "married                                          148                211   \n",
      "single                                            71                 71   \n",
      "\n",
      "Age group                         Wise ones 61-81  Youngsters 18-24  \n",
      "fam_status                                                           \n",
      "divorced/widowed                               66                 0  \n",
      "living with parents and siblings                0                25  \n",
      "married                                       290                65  \n",
      "single                                          0                40  \n"
     ]
    }
   ],
   "source": [
    "# Let's compare age and family status\n",
    "\n",
    "crosstab_age_status = pd.crosstab(instacart['fam_status'], instacart['Age group'], dropna = False)\n",
    "print(crosstab_age_status)"
   ]
  },
  {
   "cell_type": "code",
   "execution_count": 92,
   "id": "3d891e7e",
   "metadata": {},
   "outputs": [
    {
     "data": {
      "image/png": "[encoded data removed]",
      "text/plain": [
       "<Figure size 432x288 with 1 Axes>"
      ]
     },
     "metadata": {
      "needs_background": "light"
     },
     "output_type": "display_data"
    }
   ],
   "source": [
    "# Let's create a bar chart for the age and family status\n",
    "\n",
    "age_status_bar = crosstab_age_status.plot(kind = 'bar', stacked = True)\n",
    "plt.tight_layout()\n",
    "\n",
    "age_status_bar.figure.savefig(os.path.join(path, '4. Analysis','4.1. Visualizations', 'age_status_bar.png'))"
   ]
  },
  {
   "cell_type": "markdown",
   "id": "9eedef29",
   "metadata": {},
   "source": [
    "We can't conclude anything very significant from the relationship between age and family status, appart from the fact that married customers tend to spend more, and they might deserve a bigger effort in marketing to explore the impact."
   ]
  },
  {
   "cell_type": "code",
   "execution_count": 93,
   "id": "aff64437",
   "metadata": {},
   "outputs": [],
   "source": [
    "# To export our dataframe\n",
    "\n",
    "instacart.to_pickle(os.path.join(path, '2. Data', '2.2. Prepared Data', 'Instacart_final.pkl'))"
   ]
  },
  {
   "cell_type": "code",
   "execution_count": null,
   "id": "d575f9b1",
   "metadata": {},
   "outputs": [],
   "source": []
  }
 ],
 "metadata": {
  "kernelspec": {
   "display_name": "Python 3",
   "language": "python",
   "name": "python3"
  },
  "language_info": {
   "codemirror_mode": {
    "name": "ipython",
    "version": 3
   },
   "file_extension": ".py",
   "mimetype": "text/x-python",
   "name": "python",
   "nbconvert_exporter": "python",
   "pygments_lexer": "ipython3",
   "version": "3.8.8"
  }
 },
 "nbformat": 4,
 "nbformat_minor": 5
}
