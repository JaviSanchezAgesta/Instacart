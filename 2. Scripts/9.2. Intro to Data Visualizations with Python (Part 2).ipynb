{
 "cells": [
  {
   "cell_type": "markdown",
   "id": "9ae28b4e",
   "metadata": {},
   "source": [
    "# DATA VISUALIZATIONS WITH PYTHON (part 2)"
   ]
  },
  {
   "cell_type": "markdown",
   "id": "63523a96",
   "metadata": {},
   "source": [
    "### This script contains the following:\n",
    "#### 1. Importing libraries\n",
    "#### 2. Importing data\n",
    "#### 3. Histogram\n",
    "#### 4. Loyalty flag bar chart\n",
    "#### 5. Difference in expenditure by hour of day\n",
    "#### 6. Age vs Number of dependants\n",
    "#### 7. Age vs Spending power\n",
    "#### 8. Exporting visualizations\n",
    "#### 9. Exporting dataframe"
   ]
  },
  {
   "cell_type": "markdown",
   "id": "7c46cda5",
   "metadata": {},
   "source": [
    "# --------------------------------------------------------------------------------------------------------------"
   ]
  },
  {
   "cell_type": "markdown",
   "id": "28931ea0",
   "metadata": {},
   "source": [
    "## 1. Importing libraries"
   ]
  },
  {
   "cell_type": "code",
   "execution_count": 1,
   "id": "84708353",
   "metadata": {},
   "outputs": [],
   "source": [
    "# Import libraries\n",
    "\n",
    "import pandas as pd\n",
    "import numpy as np\n",
    "import os\n",
    "import matplotlib.pyplot as plt\n",
    "import seaborn as sns\n",
    "import scipy"
   ]
  },
  {
   "cell_type": "markdown",
   "id": "23d6ba82",
   "metadata": {},
   "source": [
    "## 2. Importing data"
   ]
  },
  {
   "cell_type": "code",
   "execution_count": 2,
   "id": "636f25fe",
   "metadata": {},
   "outputs": [],
   "source": [
    "# We create a path to add a shortcut to our files location\n",
    "\n",
    "path = r'C:\\Users\\javis\\OneDrive\\Documentos\\Career Foundry\\2. Data Immersion\\4. Python\\Instacart Basket Analysis'"
   ]
  },
  {
   "cell_type": "code",
   "execution_count": 3,
   "id": "0244f1f6",
   "metadata": {},
   "outputs": [],
   "source": [
    "# We then give Python the instruction of reading the file located in that path\n",
    "\n",
    "cust_ords_prods_comb = pd.read_pickle(os.path.join(path, '2. Data', '2.2. Prepared Data', 'cust_orders_products_combined_2.pkl'))"
   ]
  },
  {
   "cell_type": "code",
   "execution_count": 4,
   "id": "6bf871d2",
   "metadata": {},
   "outputs": [
    {
     "data": {
      "text/html": [
       "<div>\n",
       "<style scoped>\n",
       "    .dataframe tbody tr th:only-of-type {\n",
       "        vertical-align: middle;\n",
       "    }\n",
       "\n",
       "    .dataframe tbody tr th {\n",
       "        vertical-align: top;\n",
       "    }\n",
       "\n",
       "    .dataframe thead th {\n",
       "        text-align: right;\n",
       "    }\n",
       "</style>\n",
       "<table border=\"1\" class=\"dataframe\">\n",
       "  <thead>\n",
       "    <tr style=\"text-align: right;\">\n",
       "      <th></th>\n",
       "      <th>order_id</th>\n",
       "      <th>user_id</th>\n",
       "      <th>order_number</th>\n",
       "      <th>orders_day_of_week</th>\n",
       "      <th>order_hour_of_day</th>\n",
       "      <th>days_from_last_order</th>\n",
       "      <th>first_order</th>\n",
       "      <th>product_id</th>\n",
       "      <th>add_to_cart_order</th>\n",
       "      <th>reordered</th>\n",
       "      <th>...</th>\n",
       "      <th>frequency_orders</th>\n",
       "      <th>frequency_flag</th>\n",
       "      <th>surname</th>\n",
       "      <th>gender</th>\n",
       "      <th>state</th>\n",
       "      <th>age</th>\n",
       "      <th>date_joined</th>\n",
       "      <th>dependants</th>\n",
       "      <th>fam_status</th>\n",
       "      <th>income</th>\n",
       "    </tr>\n",
       "  </thead>\n",
       "  <tbody>\n",
       "    <tr>\n",
       "      <th>0</th>\n",
       "      <td>7447</td>\n",
       "      <td>76142</td>\n",
       "      <td>56</td>\n",
       "      <td>5</td>\n",
       "      <td>11</td>\n",
       "      <td>4.0</td>\n",
       "      <td>False</td>\n",
       "      <td>38526</td>\n",
       "      <td>1</td>\n",
       "      <td>1</td>\n",
       "      <td>...</td>\n",
       "      <td>NaN</td>\n",
       "      <td>NaN</td>\n",
       "      <td>Yang</td>\n",
       "      <td>Female</td>\n",
       "      <td>Wisconsin</td>\n",
       "      <td>75</td>\n",
       "      <td>10/23/2017</td>\n",
       "      <td>2</td>\n",
       "      <td>married</td>\n",
       "      <td>80939</td>\n",
       "    </tr>\n",
       "    <tr>\n",
       "      <th>1</th>\n",
       "      <td>7447</td>\n",
       "      <td>76142</td>\n",
       "      <td>56</td>\n",
       "      <td>5</td>\n",
       "      <td>11</td>\n",
       "      <td>4.0</td>\n",
       "      <td>False</td>\n",
       "      <td>39747</td>\n",
       "      <td>2</td>\n",
       "      <td>0</td>\n",
       "      <td>...</td>\n",
       "      <td>NaN</td>\n",
       "      <td>NaN</td>\n",
       "      <td>Yang</td>\n",
       "      <td>Female</td>\n",
       "      <td>Wisconsin</td>\n",
       "      <td>75</td>\n",
       "      <td>10/23/2017</td>\n",
       "      <td>2</td>\n",
       "      <td>married</td>\n",
       "      <td>80939</td>\n",
       "    </tr>\n",
       "    <tr>\n",
       "      <th>2</th>\n",
       "      <td>7447</td>\n",
       "      <td>76142</td>\n",
       "      <td>56</td>\n",
       "      <td>5</td>\n",
       "      <td>11</td>\n",
       "      <td>4.0</td>\n",
       "      <td>False</td>\n",
       "      <td>27086</td>\n",
       "      <td>3</td>\n",
       "      <td>1</td>\n",
       "      <td>...</td>\n",
       "      <td>NaN</td>\n",
       "      <td>NaN</td>\n",
       "      <td>Yang</td>\n",
       "      <td>Female</td>\n",
       "      <td>Wisconsin</td>\n",
       "      <td>75</td>\n",
       "      <td>10/23/2017</td>\n",
       "      <td>2</td>\n",
       "      <td>married</td>\n",
       "      <td>80939</td>\n",
       "    </tr>\n",
       "    <tr>\n",
       "      <th>3</th>\n",
       "      <td>7447</td>\n",
       "      <td>76142</td>\n",
       "      <td>56</td>\n",
       "      <td>5</td>\n",
       "      <td>11</td>\n",
       "      <td>4.0</td>\n",
       "      <td>False</td>\n",
       "      <td>47310</td>\n",
       "      <td>4</td>\n",
       "      <td>0</td>\n",
       "      <td>...</td>\n",
       "      <td>NaN</td>\n",
       "      <td>NaN</td>\n",
       "      <td>Yang</td>\n",
       "      <td>Female</td>\n",
       "      <td>Wisconsin</td>\n",
       "      <td>75</td>\n",
       "      <td>10/23/2017</td>\n",
       "      <td>2</td>\n",
       "      <td>married</td>\n",
       "      <td>80939</td>\n",
       "    </tr>\n",
       "    <tr>\n",
       "      <th>4</th>\n",
       "      <td>7447</td>\n",
       "      <td>76142</td>\n",
       "      <td>56</td>\n",
       "      <td>5</td>\n",
       "      <td>11</td>\n",
       "      <td>4.0</td>\n",
       "      <td>False</td>\n",
       "      <td>25577</td>\n",
       "      <td>5</td>\n",
       "      <td>0</td>\n",
       "      <td>...</td>\n",
       "      <td>NaN</td>\n",
       "      <td>NaN</td>\n",
       "      <td>Yang</td>\n",
       "      <td>Female</td>\n",
       "      <td>Wisconsin</td>\n",
       "      <td>75</td>\n",
       "      <td>10/23/2017</td>\n",
       "      <td>2</td>\n",
       "      <td>married</td>\n",
       "      <td>80939</td>\n",
       "    </tr>\n",
       "  </tbody>\n",
       "</table>\n",
       "<p>5 rows × 34 columns</p>\n",
       "</div>"
      ],
      "text/plain": [
       "   order_id user_id  order_number  orders_day_of_week  order_hour_of_day  \\\n",
       "0      7447   76142            56                   5                 11   \n",
       "1      7447   76142            56                   5                 11   \n",
       "2      7447   76142            56                   5                 11   \n",
       "3      7447   76142            56                   5                 11   \n",
       "4      7447   76142            56                   5                 11   \n",
       "\n",
       "   days_from_last_order  first_order  product_id  add_to_cart_order  \\\n",
       "0                   4.0        False       38526                  1   \n",
       "1                   4.0        False       39747                  2   \n",
       "2                   4.0        False       27086                  3   \n",
       "3                   4.0        False       47310                  4   \n",
       "4                   4.0        False       25577                  5   \n",
       "\n",
       "   reordered  ... frequency_orders frequency_flag  surname  gender      state  \\\n",
       "0          1  ...              NaN            NaN     Yang  Female  Wisconsin   \n",
       "1          0  ...              NaN            NaN     Yang  Female  Wisconsin   \n",
       "2          1  ...              NaN            NaN     Yang  Female  Wisconsin   \n",
       "3          0  ...              NaN            NaN     Yang  Female  Wisconsin   \n",
       "4          0  ...              NaN            NaN     Yang  Female  Wisconsin   \n",
       "\n",
       "  age date_joined dependants fam_status income  \n",
       "0  75  10/23/2017          2    married  80939  \n",
       "1  75  10/23/2017          2    married  80939  \n",
       "2  75  10/23/2017          2    married  80939  \n",
       "3  75  10/23/2017          2    married  80939  \n",
       "4  75  10/23/2017          2    married  80939  \n",
       "\n",
       "[5 rows x 34 columns]"
      ]
     },
     "execution_count": 4,
     "metadata": {},
     "output_type": "execute_result"
    }
   ],
   "source": [
    "# Let's have a look at frame\n",
    "\n",
    "cust_ords_prods_comb.head()"
   ]
  },
  {
   "cell_type": "markdown",
   "id": "b1dc0c2f",
   "metadata": {},
   "source": [
    "## 3. Order hour of day histogram"
   ]
  },
  {
   "cell_type": "code",
   "execution_count": 5,
   "id": "312345ee",
   "metadata": {},
   "outputs": [
    {
     "data": {
      "image/png": "[encoded data removed]",
      "text/plain": [
       "<Figure size 432x288 with 1 Axes>"
      ]
     },
     "metadata": {
      "needs_background": "light"
     },
     "output_type": "display_data"
    }
   ],
   "source": [
    "# To create a histogram of the order hour of the day\n",
    "\n",
    "hour_day_histog = cust_ords_prods_comb['order_hour_of_day'].plot.hist(bins = 24)"
   ]
  },
  {
   "cell_type": "markdown",
   "id": "d9337dc1",
   "metadata": {},
   "source": [
    "The busiest hours of the day are between 9.00h and 17.00h, although from 8-9h and from 15-20h it is also busy. The busiest hours seem to coincide with the normal office hours, indicating that it could be that many of our customers could be office workers."
   ]
  },
  {
   "cell_type": "markdown",
   "id": "2f265956",
   "metadata": {},
   "source": [
    "## 4. Loyalty flag bar chart"
   ]
  },
  {
   "cell_type": "code",
   "execution_count": 6,
   "id": "0a7291f7",
   "metadata": {},
   "outputs": [],
   "source": [
    "# First, we will create a loyalty flag column in our data set, group by criteria and apply the function\n",
    "\n",
    "cust_ords_prods_comb['max_order'] = cust_ords_prods_comb.groupby(['user_id'])['order_number'].transform(np.max)\n"
   ]
  },
  {
   "cell_type": "code",
   "execution_count": 7,
   "id": "404821bf",
   "metadata": {},
   "outputs": [
    {
     "data": {
      "text/html": [
       "<div>\n",
       "<style scoped>\n",
       "    .dataframe tbody tr th:only-of-type {\n",
       "        vertical-align: middle;\n",
       "    }\n",
       "\n",
       "    .dataframe tbody tr th {\n",
       "        vertical-align: top;\n",
       "    }\n",
       "\n",
       "    .dataframe thead th {\n",
       "        text-align: right;\n",
       "    }\n",
       "</style>\n",
       "<table border=\"1\" class=\"dataframe\">\n",
       "  <thead>\n",
       "    <tr style=\"text-align: right;\">\n",
       "      <th></th>\n",
       "      <th>order_id</th>\n",
       "      <th>user_id</th>\n",
       "      <th>order_number</th>\n",
       "      <th>orders_day_of_week</th>\n",
       "      <th>order_hour_of_day</th>\n",
       "      <th>days_from_last_order</th>\n",
       "      <th>first_order</th>\n",
       "      <th>product_id</th>\n",
       "      <th>add_to_cart_order</th>\n",
       "      <th>reordered</th>\n",
       "      <th>...</th>\n",
       "      <th>frequency_orders</th>\n",
       "      <th>frequency_flag</th>\n",
       "      <th>surname</th>\n",
       "      <th>gender</th>\n",
       "      <th>state</th>\n",
       "      <th>age</th>\n",
       "      <th>date_joined</th>\n",
       "      <th>dependants</th>\n",
       "      <th>fam_status</th>\n",
       "      <th>income</th>\n",
       "    </tr>\n",
       "  </thead>\n",
       "  <tbody>\n",
       "    <tr>\n",
       "      <th>0</th>\n",
       "      <td>7447</td>\n",
       "      <td>76142</td>\n",
       "      <td>56</td>\n",
       "      <td>5</td>\n",
       "      <td>11</td>\n",
       "      <td>4.0</td>\n",
       "      <td>False</td>\n",
       "      <td>38526</td>\n",
       "      <td>1</td>\n",
       "      <td>1</td>\n",
       "      <td>...</td>\n",
       "      <td>NaN</td>\n",
       "      <td>NaN</td>\n",
       "      <td>Yang</td>\n",
       "      <td>Female</td>\n",
       "      <td>Wisconsin</td>\n",
       "      <td>75</td>\n",
       "      <td>10/23/2017</td>\n",
       "      <td>2</td>\n",
       "      <td>married</td>\n",
       "      <td>80939</td>\n",
       "    </tr>\n",
       "    <tr>\n",
       "      <th>1</th>\n",
       "      <td>7447</td>\n",
       "      <td>76142</td>\n",
       "      <td>56</td>\n",
       "      <td>5</td>\n",
       "      <td>11</td>\n",
       "      <td>4.0</td>\n",
       "      <td>False</td>\n",
       "      <td>39747</td>\n",
       "      <td>2</td>\n",
       "      <td>0</td>\n",
       "      <td>...</td>\n",
       "      <td>NaN</td>\n",
       "      <td>NaN</td>\n",
       "      <td>Yang</td>\n",
       "      <td>Female</td>\n",
       "      <td>Wisconsin</td>\n",
       "      <td>75</td>\n",
       "      <td>10/23/2017</td>\n",
       "      <td>2</td>\n",
       "      <td>married</td>\n",
       "      <td>80939</td>\n",
       "    </tr>\n",
       "    <tr>\n",
       "      <th>2</th>\n",
       "      <td>7447</td>\n",
       "      <td>76142</td>\n",
       "      <td>56</td>\n",
       "      <td>5</td>\n",
       "      <td>11</td>\n",
       "      <td>4.0</td>\n",
       "      <td>False</td>\n",
       "      <td>27086</td>\n",
       "      <td>3</td>\n",
       "      <td>1</td>\n",
       "      <td>...</td>\n",
       "      <td>NaN</td>\n",
       "      <td>NaN</td>\n",
       "      <td>Yang</td>\n",
       "      <td>Female</td>\n",
       "      <td>Wisconsin</td>\n",
       "      <td>75</td>\n",
       "      <td>10/23/2017</td>\n",
       "      <td>2</td>\n",
       "      <td>married</td>\n",
       "      <td>80939</td>\n",
       "    </tr>\n",
       "    <tr>\n",
       "      <th>3</th>\n",
       "      <td>7447</td>\n",
       "      <td>76142</td>\n",
       "      <td>56</td>\n",
       "      <td>5</td>\n",
       "      <td>11</td>\n",
       "      <td>4.0</td>\n",
       "      <td>False</td>\n",
       "      <td>47310</td>\n",
       "      <td>4</td>\n",
       "      <td>0</td>\n",
       "      <td>...</td>\n",
       "      <td>NaN</td>\n",
       "      <td>NaN</td>\n",
       "      <td>Yang</td>\n",
       "      <td>Female</td>\n",
       "      <td>Wisconsin</td>\n",
       "      <td>75</td>\n",
       "      <td>10/23/2017</td>\n",
       "      <td>2</td>\n",
       "      <td>married</td>\n",
       "      <td>80939</td>\n",
       "    </tr>\n",
       "    <tr>\n",
       "      <th>4</th>\n",
       "      <td>7447</td>\n",
       "      <td>76142</td>\n",
       "      <td>56</td>\n",
       "      <td>5</td>\n",
       "      <td>11</td>\n",
       "      <td>4.0</td>\n",
       "      <td>False</td>\n",
       "      <td>25577</td>\n",
       "      <td>5</td>\n",
       "      <td>0</td>\n",
       "      <td>...</td>\n",
       "      <td>NaN</td>\n",
       "      <td>NaN</td>\n",
       "      <td>Yang</td>\n",
       "      <td>Female</td>\n",
       "      <td>Wisconsin</td>\n",
       "      <td>75</td>\n",
       "      <td>10/23/2017</td>\n",
       "      <td>2</td>\n",
       "      <td>married</td>\n",
       "      <td>80939</td>\n",
       "    </tr>\n",
       "    <tr>\n",
       "      <th>5</th>\n",
       "      <td>7447</td>\n",
       "      <td>76142</td>\n",
       "      <td>56</td>\n",
       "      <td>5</td>\n",
       "      <td>11</td>\n",
       "      <td>4.0</td>\n",
       "      <td>False</td>\n",
       "      <td>6343</td>\n",
       "      <td>6</td>\n",
       "      <td>0</td>\n",
       "      <td>...</td>\n",
       "      <td>NaN</td>\n",
       "      <td>NaN</td>\n",
       "      <td>Yang</td>\n",
       "      <td>Female</td>\n",
       "      <td>Wisconsin</td>\n",
       "      <td>75</td>\n",
       "      <td>10/23/2017</td>\n",
       "      <td>2</td>\n",
       "      <td>married</td>\n",
       "      <td>80939</td>\n",
       "    </tr>\n",
       "    <tr>\n",
       "      <th>6</th>\n",
       "      <td>7447</td>\n",
       "      <td>76142</td>\n",
       "      <td>56</td>\n",
       "      <td>5</td>\n",
       "      <td>11</td>\n",
       "      <td>4.0</td>\n",
       "      <td>False</td>\n",
       "      <td>38288</td>\n",
       "      <td>7</td>\n",
       "      <td>0</td>\n",
       "      <td>...</td>\n",
       "      <td>NaN</td>\n",
       "      <td>NaN</td>\n",
       "      <td>Yang</td>\n",
       "      <td>Female</td>\n",
       "      <td>Wisconsin</td>\n",
       "      <td>75</td>\n",
       "      <td>10/23/2017</td>\n",
       "      <td>2</td>\n",
       "      <td>married</td>\n",
       "      <td>80939</td>\n",
       "    </tr>\n",
       "    <tr>\n",
       "      <th>7</th>\n",
       "      <td>7447</td>\n",
       "      <td>76142</td>\n",
       "      <td>56</td>\n",
       "      <td>5</td>\n",
       "      <td>11</td>\n",
       "      <td>4.0</td>\n",
       "      <td>False</td>\n",
       "      <td>3550</td>\n",
       "      <td>8</td>\n",
       "      <td>0</td>\n",
       "      <td>...</td>\n",
       "      <td>NaN</td>\n",
       "      <td>NaN</td>\n",
       "      <td>Yang</td>\n",
       "      <td>Female</td>\n",
       "      <td>Wisconsin</td>\n",
       "      <td>75</td>\n",
       "      <td>10/23/2017</td>\n",
       "      <td>2</td>\n",
       "      <td>married</td>\n",
       "      <td>80939</td>\n",
       "    </tr>\n",
       "    <tr>\n",
       "      <th>8</th>\n",
       "      <td>13258</td>\n",
       "      <td>155252</td>\n",
       "      <td>3</td>\n",
       "      <td>0</td>\n",
       "      <td>9</td>\n",
       "      <td>8.0</td>\n",
       "      <td>False</td>\n",
       "      <td>27086</td>\n",
       "      <td>5</td>\n",
       "      <td>1</td>\n",
       "      <td>...</td>\n",
       "      <td>NaN</td>\n",
       "      <td>NaN</td>\n",
       "      <td>Moses</td>\n",
       "      <td>Male</td>\n",
       "      <td>Delaware</td>\n",
       "      <td>44</td>\n",
       "      <td>7/1/2019</td>\n",
       "      <td>2</td>\n",
       "      <td>married</td>\n",
       "      <td>235739</td>\n",
       "    </tr>\n",
       "    <tr>\n",
       "      <th>9</th>\n",
       "      <td>13258</td>\n",
       "      <td>155252</td>\n",
       "      <td>3</td>\n",
       "      <td>0</td>\n",
       "      <td>9</td>\n",
       "      <td>8.0</td>\n",
       "      <td>False</td>\n",
       "      <td>25869</td>\n",
       "      <td>1</td>\n",
       "      <td>0</td>\n",
       "      <td>...</td>\n",
       "      <td>NaN</td>\n",
       "      <td>NaN</td>\n",
       "      <td>Moses</td>\n",
       "      <td>Male</td>\n",
       "      <td>Delaware</td>\n",
       "      <td>44</td>\n",
       "      <td>7/1/2019</td>\n",
       "      <td>2</td>\n",
       "      <td>married</td>\n",
       "      <td>235739</td>\n",
       "    </tr>\n",
       "    <tr>\n",
       "      <th>10</th>\n",
       "      <td>13258</td>\n",
       "      <td>155252</td>\n",
       "      <td>3</td>\n",
       "      <td>0</td>\n",
       "      <td>9</td>\n",
       "      <td>8.0</td>\n",
       "      <td>False</td>\n",
       "      <td>41771</td>\n",
       "      <td>2</td>\n",
       "      <td>0</td>\n",
       "      <td>...</td>\n",
       "      <td>NaN</td>\n",
       "      <td>NaN</td>\n",
       "      <td>Moses</td>\n",
       "      <td>Male</td>\n",
       "      <td>Delaware</td>\n",
       "      <td>44</td>\n",
       "      <td>7/1/2019</td>\n",
       "      <td>2</td>\n",
       "      <td>married</td>\n",
       "      <td>235739</td>\n",
       "    </tr>\n",
       "    <tr>\n",
       "      <th>11</th>\n",
       "      <td>13258</td>\n",
       "      <td>155252</td>\n",
       "      <td>3</td>\n",
       "      <td>0</td>\n",
       "      <td>9</td>\n",
       "      <td>8.0</td>\n",
       "      <td>False</td>\n",
       "      <td>30233</td>\n",
       "      <td>3</td>\n",
       "      <td>1</td>\n",
       "      <td>...</td>\n",
       "      <td>NaN</td>\n",
       "      <td>NaN</td>\n",
       "      <td>Moses</td>\n",
       "      <td>Male</td>\n",
       "      <td>Delaware</td>\n",
       "      <td>44</td>\n",
       "      <td>7/1/2019</td>\n",
       "      <td>2</td>\n",
       "      <td>married</td>\n",
       "      <td>235739</td>\n",
       "    </tr>\n",
       "    <tr>\n",
       "      <th>12</th>\n",
       "      <td>13258</td>\n",
       "      <td>155252</td>\n",
       "      <td>3</td>\n",
       "      <td>0</td>\n",
       "      <td>9</td>\n",
       "      <td>8.0</td>\n",
       "      <td>False</td>\n",
       "      <td>7781</td>\n",
       "      <td>4</td>\n",
       "      <td>1</td>\n",
       "      <td>...</td>\n",
       "      <td>NaN</td>\n",
       "      <td>NaN</td>\n",
       "      <td>Moses</td>\n",
       "      <td>Male</td>\n",
       "      <td>Delaware</td>\n",
       "      <td>44</td>\n",
       "      <td>7/1/2019</td>\n",
       "      <td>2</td>\n",
       "      <td>married</td>\n",
       "      <td>235739</td>\n",
       "    </tr>\n",
       "    <tr>\n",
       "      <th>13</th>\n",
       "      <td>13258</td>\n",
       "      <td>155252</td>\n",
       "      <td>3</td>\n",
       "      <td>0</td>\n",
       "      <td>9</td>\n",
       "      <td>8.0</td>\n",
       "      <td>False</td>\n",
       "      <td>43772</td>\n",
       "      <td>6</td>\n",
       "      <td>0</td>\n",
       "      <td>...</td>\n",
       "      <td>NaN</td>\n",
       "      <td>NaN</td>\n",
       "      <td>Moses</td>\n",
       "      <td>Male</td>\n",
       "      <td>Delaware</td>\n",
       "      <td>44</td>\n",
       "      <td>7/1/2019</td>\n",
       "      <td>2</td>\n",
       "      <td>married</td>\n",
       "      <td>235739</td>\n",
       "    </tr>\n",
       "    <tr>\n",
       "      <th>14</th>\n",
       "      <td>27175</td>\n",
       "      <td>203194</td>\n",
       "      <td>20</td>\n",
       "      <td>0</td>\n",
       "      <td>8</td>\n",
       "      <td>6.0</td>\n",
       "      <td>False</td>\n",
       "      <td>27086</td>\n",
       "      <td>9</td>\n",
       "      <td>1</td>\n",
       "      <td>...</td>\n",
       "      <td>NaN</td>\n",
       "      <td>NaN</td>\n",
       "      <td>Meyers</td>\n",
       "      <td>Female</td>\n",
       "      <td>Florida</td>\n",
       "      <td>69</td>\n",
       "      <td>8/20/2017</td>\n",
       "      <td>2</td>\n",
       "      <td>married</td>\n",
       "      <td>159461</td>\n",
       "    </tr>\n",
       "  </tbody>\n",
       "</table>\n",
       "<p>15 rows × 34 columns</p>\n",
       "</div>"
      ],
      "text/plain": [
       "    order_id user_id  order_number  orders_day_of_week  order_hour_of_day  \\\n",
       "0       7447   76142            56                   5                 11   \n",
       "1       7447   76142            56                   5                 11   \n",
       "2       7447   76142            56                   5                 11   \n",
       "3       7447   76142            56                   5                 11   \n",
       "4       7447   76142            56                   5                 11   \n",
       "5       7447   76142            56                   5                 11   \n",
       "6       7447   76142            56                   5                 11   \n",
       "7       7447   76142            56                   5                 11   \n",
       "8      13258  155252             3                   0                  9   \n",
       "9      13258  155252             3                   0                  9   \n",
       "10     13258  155252             3                   0                  9   \n",
       "11     13258  155252             3                   0                  9   \n",
       "12     13258  155252             3                   0                  9   \n",
       "13     13258  155252             3                   0                  9   \n",
       "14     27175  203194            20                   0                  8   \n",
       "\n",
       "    days_from_last_order  first_order  product_id  add_to_cart_order  \\\n",
       "0                    4.0        False       38526                  1   \n",
       "1                    4.0        False       39747                  2   \n",
       "2                    4.0        False       27086                  3   \n",
       "3                    4.0        False       47310                  4   \n",
       "4                    4.0        False       25577                  5   \n",
       "5                    4.0        False        6343                  6   \n",
       "6                    4.0        False       38288                  7   \n",
       "7                    4.0        False        3550                  8   \n",
       "8                    8.0        False       27086                  5   \n",
       "9                    8.0        False       25869                  1   \n",
       "10                   8.0        False       41771                  2   \n",
       "11                   8.0        False       30233                  3   \n",
       "12                   8.0        False        7781                  4   \n",
       "13                   8.0        False       43772                  6   \n",
       "14                   6.0        False       27086                  9   \n",
       "\n",
       "    reordered  ... frequency_orders frequency_flag  surname  gender  \\\n",
       "0           1  ...              NaN            NaN     Yang  Female   \n",
       "1           0  ...              NaN            NaN     Yang  Female   \n",
       "2           1  ...              NaN            NaN     Yang  Female   \n",
       "3           0  ...              NaN            NaN     Yang  Female   \n",
       "4           0  ...              NaN            NaN     Yang  Female   \n",
       "5           0  ...              NaN            NaN     Yang  Female   \n",
       "6           0  ...              NaN            NaN     Yang  Female   \n",
       "7           0  ...              NaN            NaN     Yang  Female   \n",
       "8           1  ...              NaN            NaN    Moses    Male   \n",
       "9           0  ...              NaN            NaN    Moses    Male   \n",
       "10          0  ...              NaN            NaN    Moses    Male   \n",
       "11          1  ...              NaN            NaN    Moses    Male   \n",
       "12          1  ...              NaN            NaN    Moses    Male   \n",
       "13          0  ...              NaN            NaN    Moses    Male   \n",
       "14          1  ...              NaN            NaN   Meyers  Female   \n",
       "\n",
       "        state age date_joined dependants fam_status  income  \n",
       "0   Wisconsin  75  10/23/2017          2    married   80939  \n",
       "1   Wisconsin  75  10/23/2017          2    married   80939  \n",
       "2   Wisconsin  75  10/23/2017          2    married   80939  \n",
       "3   Wisconsin  75  10/23/2017          2    married   80939  \n",
       "4   Wisconsin  75  10/23/2017          2    married   80939  \n",
       "5   Wisconsin  75  10/23/2017          2    married   80939  \n",
       "6   Wisconsin  75  10/23/2017          2    married   80939  \n",
       "7   Wisconsin  75  10/23/2017          2    married   80939  \n",
       "8    Delaware  44    7/1/2019          2    married  235739  \n",
       "9    Delaware  44    7/1/2019          2    married  235739  \n",
       "10   Delaware  44    7/1/2019          2    married  235739  \n",
       "11   Delaware  44    7/1/2019          2    married  235739  \n",
       "12   Delaware  44    7/1/2019          2    married  235739  \n",
       "13   Delaware  44    7/1/2019          2    married  235739  \n",
       "14    Florida  69   8/20/2017          2    married  159461  \n",
       "\n",
       "[15 rows x 34 columns]"
      ]
     },
     "execution_count": 7,
     "metadata": {},
     "output_type": "execute_result"
    }
   ],
   "source": [
    "# We check the output \n",
    "\n",
    "cust_ords_prods_comb.head(15)"
   ]
  },
  {
   "cell_type": "code",
   "execution_count": 8,
   "id": "d8738784",
   "metadata": {},
   "outputs": [],
   "source": [
    "# With the new column ready, we have to create a flag to denominate the loyalty of the customers\n",
    "\n",
    "cust_ords_prods_comb.loc[cust_ords_prods_comb['max_order'] > 40, 'loyalty_flag'] = 'Loyal customer'"
   ]
  },
  {
   "cell_type": "code",
   "execution_count": 9,
   "id": "c32f5365",
   "metadata": {},
   "outputs": [],
   "source": [
    "# We do the same for regular customers\n",
    "\n",
    "cust_ords_prods_comb.loc[(cust_ords_prods_comb['max_order'] <= 40) & (cust_ords_prods_comb['max_order'] > 10), 'loyalty_flag'] = 'Regular customer'"
   ]
  },
  {
   "cell_type": "code",
   "execution_count": 10,
   "id": "6805ebcf",
   "metadata": {},
   "outputs": [],
   "source": [
    "# And for new customers\n",
    "\n",
    "cust_ords_prods_comb.loc[cust_ords_prods_comb['max_order'] <= 10, 'loyalty_flag'] = 'New customer'"
   ]
  },
  {
   "cell_type": "code",
   "execution_count": 11,
   "id": "52efa086",
   "metadata": {},
   "outputs": [
    {
     "data": {
      "text/plain": [
       "Regular customer    465\n",
       "New customer        457\n",
       "Loyal customer       65\n",
       "Name: loyalty_flag, dtype: int64"
      ]
     },
     "execution_count": 11,
     "metadata": {},
     "output_type": "execute_result"
    }
   ],
   "source": [
    "# As a good practice, we check the frequency \n",
    "\n",
    "cust_ords_prods_comb['loyalty_flag'].value_counts(dropna = False)"
   ]
  },
  {
   "cell_type": "code",
   "execution_count": 12,
   "id": "7f8002e0",
   "metadata": {},
   "outputs": [
    {
     "data": {
      "text/plain": [
       "Index(['order_id', 'user_id', 'order_number', 'orders_day_of_week',\n",
       "       'order_hour_of_day', 'days_from_last_order', 'first_order',\n",
       "       'product_id', 'add_to_cart_order', 'reordered', '_merge',\n",
       "       'product_name', 'aisle_id', 'department_id', 'prices', 'price_range',\n",
       "       'price_range_loc', 'busiest_day', 'Busiest_days',\n",
       "       'busiest_period_of_day', 'max_order', 'loyalty_flag',\n",
       "       'average_spending', 'spending_flag', 'frequency_orders',\n",
       "       'frequency_flag', 'surname', 'gender', 'state', 'age', 'date_joined',\n",
       "       'dependants', 'fam_status', 'income'],\n",
       "      dtype='object')"
      ]
     },
     "execution_count": 12,
     "metadata": {},
     "output_type": "execute_result"
    }
   ],
   "source": [
    "cust_ords_prods_comb.columns"
   ]
  },
  {
   "cell_type": "code",
   "execution_count": 13,
   "id": "a9ddf42d",
   "metadata": {},
   "outputs": [
    {
     "data": {
      "image/png": "[encoded data removed]",
      "text/plain": [
       "<Figure size 432x288 with 1 Axes>"
      ]
     },
     "metadata": {
      "needs_background": "light"
     },
     "output_type": "display_data"
    }
   ],
   "source": [
    "# To create a bar chart for the loyalty\n",
    "\n",
    "bar = cust_ords_prods_comb['loyalty_flag'].value_counts().plot.bar()"
   ]
  },
  {
   "cell_type": "markdown",
   "id": "ba557a92",
   "metadata": {},
   "source": [
    "## 5. Line chart - Difference in expenditure by hour of day"
   ]
  },
  {
   "cell_type": "markdown",
   "id": "9872b41d",
   "metadata": {},
   "source": [
    "In this case, due to the tiny size of the resulting dataframe I am working with, I will show the steps I would take to create a random sample in a big file, to be able to do specific charts with the desired columns on a small sample. However, I won't execute the functions as I don't want to reduce more my file. I will just create a subset with the 2 columns to include in analysis."
   ]
  },
  {
   "cell_type": "code",
   "execution_count": 14,
   "id": "820b20ee",
   "metadata": {},
   "outputs": [],
   "source": [
    "# To create a split in the data of 70/30, we create a list holding True/False values to the test np.random.rand() <= 0.7\n",
    "\n",
    "# np.random.seed(4)\n",
    "# dev = np.random.rand(len(cust_ords_prods_comb)) <= 0.7"
   ]
  },
  {
   "cell_type": "code",
   "execution_count": 15,
   "id": "3da51d20",
   "metadata": {},
   "outputs": [],
   "source": [
    "# To store 70% of data in big sample\n",
    "# big = cust_ords_prods_comb [dev]"
   ]
  },
  {
   "cell_type": "code",
   "execution_count": 16,
   "id": "2b9a46d4",
   "metadata": {},
   "outputs": [],
   "source": [
    "# To store 30% of the sample in the dataframe small\n",
    "\n",
    "# small = cust_ords_prods_comb[~dev]"
   ]
  },
  {
   "cell_type": "code",
   "execution_count": 17,
   "id": "03aa236f",
   "metadata": {},
   "outputs": [],
   "source": [
    "# TO check that our two dataframes are the 70 and 30% respectively\n",
    "\n",
    "# len (big) + len(small)"
   ]
  },
  {
   "cell_type": "markdown",
   "id": "4160ba06",
   "metadata": {},
   "source": [
    "Once you complete these steps "
   ]
  },
  {
   "cell_type": "code",
   "execution_count": 18,
   "id": "e797c076",
   "metadata": {},
   "outputs": [],
   "source": [
    "# Before creating the line chart, we will choose the columns we need \n",
    "\n",
    "df_2 = cust_ords_prods_comb[['order_hour_of_day','prices']]"
   ]
  },
  {
   "cell_type": "code",
   "execution_count": 19,
   "id": "212dcfd9",
   "metadata": {},
   "outputs": [
    {
     "data": {
      "text/plain": [
       "<Figure size 1440x720 with 0 Axes>"
      ]
     },
     "execution_count": 19,
     "metadata": {},
     "output_type": "execute_result"
    },
    {
     "data": {
      "image/png": "[encoded data removed]",
      "text/plain": [
       "<Figure size 432x288 with 1 Axes>"
      ]
     },
     "metadata": {
      "needs_background": "light"
     },
     "output_type": "display_data"
    },
    {
     "data": {
      "text/plain": [
       "<Figure size 1440x720 with 0 Axes>"
      ]
     },
     "metadata": {},
     "output_type": "display_data"
    }
   ],
   "source": [
    "# To create the line chart\n",
    "\n",
    "prices_by_h_line = sns.lineplot(data = df_2, x = 'order_hour_of_day',y = 'prices')\n",
    "plt.figure(figsize=(20,10))"
   ]
  },
  {
   "cell_type": "markdown",
   "id": "2939e1b5",
   "metadata": {},
   "source": [
    "We can see the line is fluctuating along the whole day. The highest prices are paid between 2-7am, it could be due to the habits of the consumers shopping at that time. 9am-midday are the hours with less price paid as an average, what it could indicate that this timeframe might need extra marketing efforts. After that, the paid prices stay stable with just some peaks. "
   ]
  },
  {
   "cell_type": "markdown",
   "id": "8a31db65",
   "metadata": {},
   "source": [
    "## 6. Line chart - Age and Number of dependants"
   ]
  },
  {
   "cell_type": "code",
   "execution_count": 20,
   "id": "0f2283e4",
   "metadata": {},
   "outputs": [],
   "source": [
    "# like in previous exercise, firstly we choose the two columns to analyse\n",
    "\n",
    "df_3 = cust_ords_prods_comb[['age', 'dependants']]"
   ]
  },
  {
   "cell_type": "code",
   "execution_count": 21,
   "id": "7dff152f",
   "metadata": {},
   "outputs": [
    {
     "data": {
      "text/plain": [
       "<Figure size 1440x720 with 0 Axes>"
      ]
     },
     "execution_count": 21,
     "metadata": {},
     "output_type": "execute_result"
    },
    {
     "data": {
      "image/png": "[encoded data removed]",
      "text/plain": [
       "<Figure size 432x288 with 1 Axes>"
      ]
     },
     "metadata": {
      "needs_background": "light"
     },
     "output_type": "display_data"
    },
    {
     "data": {
      "text/plain": [
       "<Figure size 1440x720 with 0 Axes>"
      ]
     },
     "metadata": {},
     "output_type": "display_data"
    }
   ],
   "source": [
    "# To create the linechart\n",
    "\n",
    "age_vs_dependants_line = sns.lineplot(data = df_3, x = 'age', y = 'dependants')\n",
    "plt.figure(figsize=(20,10))"
   ]
  },
  {
   "cell_type": "markdown",
   "id": "aba2aed8",
   "metadata": {},
   "source": [
    "We can see that the line is completely fluctuating, showing that there is no apparent relationship between number of dependants and age of the customers. "
   ]
  },
  {
   "cell_type": "markdown",
   "id": "773cf5b0",
   "metadata": {},
   "source": [
    "## 7. Scatterplot - Age and spending power"
   ]
  },
  {
   "cell_type": "code",
   "execution_count": 22,
   "id": "dd0e981f",
   "metadata": {},
   "outputs": [
    {
     "data": {
      "image/png": "[encoded data removed]",
      "text/plain": [
       "<Figure size 432x288 with 1 Axes>"
      ]
     },
     "metadata": {
      "needs_background": "light"
     },
     "output_type": "display_data"
    }
   ],
   "source": [
    "# To create the scatterplot to show relationship between age and spending power, \n",
    "\n",
    "scatter = sns.scatterplot(x = 'age', y = 'income', data = cust_ords_prods_comb)"
   ]
  },
  {
   "cell_type": "markdown",
   "id": "debaf1a4",
   "metadata": {},
   "source": [
    "We can observe how there is a bigger accumulation of dots once the age reaches 40 years old. Before seeing the graph you could have hypothesysed that this would happen, since older people is usually more settle down in workplaces and life in general than young people, leading to higher purchasing power. "
   ]
  },
  {
   "cell_type": "markdown",
   "id": "209c4b31",
   "metadata": {},
   "source": [
    "## 8. Exporting visualizations"
   ]
  },
  {
   "cell_type": "code",
   "execution_count": 23,
   "id": "85b2a999",
   "metadata": {},
   "outputs": [],
   "source": [
    "# To export the histogram of orders by hours of day\n",
    "\n",
    "hour_day_histog.figure.savefig(os.path.join(path, '4. Analysis', '4.1. Visualizations', 'hours_day_histogram_2.png'))"
   ]
  },
  {
   "cell_type": "code",
   "execution_count": 24,
   "id": "5ae41966",
   "metadata": {},
   "outputs": [],
   "source": [
    "# To export the histogram for the loyalty flag\n",
    "\n",
    "bar.figure.savefig(os.path.join(path, '4. Analysis', '4.1. Visualizations', 'loyalty_flag_bar_chart_2.png'))"
   ]
  },
  {
   "cell_type": "code",
   "execution_count": 25,
   "id": "9b8e64ea",
   "metadata": {},
   "outputs": [],
   "source": [
    "# To export the line chart showing the prices paid as average by hour of the day\n",
    "\n",
    "prices_by_h_line.figure.savefig(os.path.join(path, '4. Analysis', '4.1. Visualizations', 'price_hour_line_chart_2.png'))"
   ]
  },
  {
   "cell_type": "code",
   "execution_count": 26,
   "id": "e940a961",
   "metadata": {},
   "outputs": [],
   "source": [
    "# To export the line chart showing the relationship between age and number of dependants\n",
    "\n",
    "age_vs_dependants_line.figure.savefig(os.path.join(path, '4. Analysis', '4.1. Visualizations', 'age_depend_line_chart_2.png'))"
   ]
  },
  {
   "cell_type": "code",
   "execution_count": 27,
   "id": "ea109976",
   "metadata": {},
   "outputs": [],
   "source": [
    "# To export the scatterplot showing age and income\n",
    "\n",
    "scatter.figure.savefig(os.path.join(path, '4. Analysis', '4.1. Visualizations', 'age_income_scatt_2.png'))"
   ]
  },
  {
   "cell_type": "markdown",
   "id": "484068c1",
   "metadata": {},
   "source": [
    "## 9. Exporting dataframe"
   ]
  },
  {
   "cell_type": "code",
   "execution_count": 28,
   "id": "d6cadc8c",
   "metadata": {},
   "outputs": [],
   "source": [
    "# To export the df as a pkl\n",
    "\n",
    "cust_ords_prods_comb.to_pickle(os.path.join(path, '2. Data','2.2. Prepared Data', 'Instacart_complete.pkl'))"
   ]
  },
  {
   "cell_type": "code",
   "execution_count": null,
   "id": "f3887442",
   "metadata": {},
   "outputs": [],
   "source": []
  }
 ],
 "metadata": {
  "kernelspec": {
   "display_name": "Python 3",
   "language": "python",
   "name": "python3"
  },
  "language_info": {
   "codemirror_mode": {
    "name": "ipython",
    "version": 3
   },
   "file_extension": ".py",
   "mimetype": "text/x-python",
   "name": "python",
   "nbconvert_exporter": "python",
   "pygments_lexer": "ipython3",
   "version": "3.8.8"
  }
 },
 "nbformat": 4,
 "nbformat_minor": 5
}
